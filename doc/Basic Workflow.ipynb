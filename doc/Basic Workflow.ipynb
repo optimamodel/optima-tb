{
 "cells": [
  {
   "cell_type": "markdown",
   "metadata": {},
   "source": [
    "## Basic Workflow\n",
    "\n",
    "This notebook documents a basic Optima TB workflow with parameters and with programs. This file is best read in conjunction with the Optima TB wiki. In particular, it assumes familiarity with some of the key concepts in Optima TB described at https://github.com/thekerrlab/OptimaTB/wiki/Context"
   ]
  },
  {
   "cell_type": "code",
   "execution_count": 1,
   "metadata": {},
   "outputs": [
    {
     "name": "stdout",
     "output_type": "stream",
     "text": [
      "\n",
      "Optima TB: a TB optimization and analysis tool\n",
      "Copyright (C) 2017 by the Optima Consortium\n",
      "\n"
     ]
    }
   ],
   "source": [
    "# IMPORTS\n",
    "%load_ext autoreload\n",
    "%autoreload 2\n",
    "%matplotlib inline\n",
    "import sys\n",
    "sys.path.append('..')\n",
    "from optima_tb.project import Project\n",
    "from optima_tb.utils import odict\n",
    "from optima_tb.plotting import plotResult\n",
    "from optima_tb.defaults import defaultOptimOptions\n",
    "import optima_tb.plotting as oplt\n",
    "import optima_tb.plotting2 as oplt2\n",
    "import matplotlib.pyplot as plt\n",
    "import numpy as np\n",
    "from IPython.display import display, HTML\n",
    "from optima_tb.plotting2 import plotSeries, PlotData\n"
   ]
  },
  {
   "cell_type": "markdown",
   "metadata": {},
   "source": [
    "First, we will specify the location of the cascade file and databook file we wish to operate on:"
   ]
  },
  {
   "cell_type": "code",
   "execution_count": 2,
   "metadata": {
    "collapsed": true
   },
   "outputs": [],
   "source": [
    "cascade = '../../tb-ucl-analyses/south_africa/Cascadespreadsheets/cascade_south_africa_art.xlsx'\n",
    "databook = '../../tb-ucl-analyses/south_africa/Databookspreadsheets/databook_south_africa.xlsx'"
   ]
  },
  {
   "cell_type": "markdown",
   "metadata": {},
   "source": [
    "Next, we instantiate a `Project` object, specifying the cascade we want to use"
   ]
  },
  {
   "cell_type": "code",
   "execution_count": 3,
   "metadata": {},
   "outputs": [
    {
     "name": "stderr",
     "output_type": "stream",
     "text": [
      "29-03-18 06:11:27    INFO     Loading settings\n",
      "29-03-18 06:11:27    INFO     Validation settings: avert\n",
      "29-03-18 06:11:27    INFO     Loading plotting settings: dev\n",
      "29-03-18 06:11:28    INFO     The cascade was validated successfully!\n",
      "29-03-18 06:11:28    INFO     Created settings based on cascade: ../../tb-ucl-analyses/south_africa/Cascadespreadsheets/cascade_south_africa_art.xlsx\n",
      "29-03-18 06:11:28    INFO     Created project: south_africa\n"
     ]
    }
   ],
   "source": [
    "proj = Project(name = 'south_africa', cascade_path = cascade, plotting_level = 'dev', validation_level = 'avert')"
   ]
  },
  {
   "cell_type": "markdown",
   "metadata": {},
   "source": [
    "After creating the `Project`, we need to load in the databook. Note that the databook is matched to the cascade, in that the quantities entered into the databook must correspond to the properties defined in the cascade. If you don't already have a databook, you can make one using the Project object:"
   ]
  },
  {
   "cell_type": "code",
   "execution_count": 4,
   "metadata": {
    "scrolled": true
   },
   "outputs": [
    {
     "name": "stderr",
     "output_type": "stream",
     "text": [
      "29-03-18 06:11:28    INFO     Attempting to create databook test.xlsx\n"
     ]
    }
   ],
   "source": [
    "proj.makeSpreadsheet(databook_path='test.xlsx', num_pops = 5, num_progs = 2)"
   ]
  },
  {
   "cell_type": "markdown",
   "metadata": {},
   "source": [
    "Note that the number of populations and programs is fixed at the time the databook is created. It's difficult to change these afterwards because a lot of cells are automatically filled with formulas referring to other cells. \n",
    "\n",
    "After filling out the databook, you can then load in it using `loadSpreadsheet`:"
   ]
  },
  {
   "cell_type": "code",
   "execution_count": 5,
   "metadata": {},
   "outputs": [
    {
     "name": "stderr",
     "output_type": "stream",
     "text": [
      "29-03-18 06:11:28    INFO     Attempting to load databook ../../tb-ucl-analyses/south_africa/Databookspreadsheets/databook_south_africa.xlsx\n",
      "29-03-18 06:11:29    WARNING  Please verify databook under Parameter: spd_infxness and population 0-4 as a number greater than 1 or negative number was entered for definition type \"fraction\" for Year: 2000, value entered: 11.0\n",
      "29-03-18 06:11:29    WARNING  Please verify databook under Parameter: spd_infxness and population 15-64 as a number greater than 1 or negative number was entered for definition type \"fraction\" for Year: 2000, value entered: 6.5\n",
      "29-03-18 06:11:29    WARNING  Please verify databook under Parameter: spd_infxness and population 15-64 (HIV+) as a number greater than 1 or negative number was entered for definition type \"fraction\" for Year: 2000, value entered: 3.4\n",
      "29-03-18 06:11:29    WARNING  Please verify databook under Parameter: spd_infxness and population Prisoners as a number greater than 1 or negative number was entered for definition type \"fraction\" for Year: 2000, value entered: 60.0\n",
      "29-03-18 06:11:29    WARNING  Validating databook: possible inconsistencies observed (see log for details)\n"
     ]
    }
   ],
   "source": [
    "proj.loadSpreadsheet(databook_path = databook)"
   ]
  },
  {
   "cell_type": "markdown",
   "metadata": {},
   "source": [
    "Loading the spreadsheet into the project will populate the `data` property"
   ]
  },
  {
   "cell_type": "code",
   "execution_count": 6,
   "metadata": {},
   "outputs": [
    {
     "data": {
      "text/plain": [
       "['meta', 'pops', 'contacts', 'transfers', 'progs', 'characs', 'linkpars']"
      ]
     },
     "execution_count": 6,
     "metadata": {},
     "output_type": "execute_result"
    }
   ],
   "source": [
    "proj.data.keys()"
   ]
  },
  {
   "cell_type": "markdown",
   "metadata": {},
   "source": [
    "However, no parameter sets have been created yet. The next step to run a simulation is to make a parset"
   ]
  },
  {
   "cell_type": "code",
   "execution_count": 7,
   "metadata": {
    "scrolled": true
   },
   "outputs": [
    {
     "name": "stderr",
     "output_type": "stream",
     "text": [
      "29-03-18 06:11:29    INFO     Created ParameterSet: default\n"
     ]
    }
   ],
   "source": [
    "proj.makeParset(name='default');"
   ]
  },
  {
   "cell_type": "markdown",
   "metadata": {},
   "source": [
    "You can use the label of the parset to identify it later on. If a parset with that name already exists, it will be overwritten.\n",
    "\n",
    "Now that we have a parset, we can run a simulation. To run a basic simulation, all we need to specify is the name of the parset: "
   ]
  },
  {
   "cell_type": "code",
   "execution_count": 8,
   "metadata": {
    "scrolled": true
   },
   "outputs": [
    {
     "name": "stderr",
     "output_type": "stream",
     "text": [
      "29-03-18 06:11:29    INFO     Initiating a standard run of project \"south_africa\" (i.e. without the influence of programs).\n",
      "29-03-18 06:11:34    INFO     Elapsed time for running south_africa model: 4.749 s\n"
     ]
    }
   ],
   "source": [
    "par_results = proj.runSim(parset_name='default')"
   ]
  },
  {
   "cell_type": "markdown",
   "metadata": {},
   "source": [
    "A `ResultSet` object is returned from the `runSim` function. In addition, that object is saved in the Project:"
   ]
  },
  {
   "cell_type": "code",
   "execution_count": 9,
   "metadata": {},
   "outputs": [
    {
     "data": {
      "text/plain": [
       "['parset_default_1']"
      ]
     },
     "execution_count": 9,
     "metadata": {},
     "output_type": "execute_result"
    }
   ],
   "source": [
    "proj.results.keys()"
   ]
  },
  {
   "cell_type": "markdown",
   "metadata": {},
   "source": [
    "That way, you can retrieve previous results from the Project if you didn't retain them when the simulation was run. \n",
    "\n",
    "We can now plot the result. See the Plotting documentation for full details:"
   ]
  },
  {
   "cell_type": "code",
   "execution_count": 10,
   "metadata": {},
   "outputs": [
    {
     "data": {
      "image/png": "[encoded data removed]",
      "text/plain": [
       "<Figure size 720x576 with 1 Axes>"
      ]
     },
     "metadata": {},
     "output_type": "display_data"
    }
   ],
   "source": [
    "d = PlotData(par_results,pops='0-4')\n",
    "plotSeries(d,plot_type='stacked');"
   ]
  },
  {
   "cell_type": "markdown",
   "metadata": {},
   "source": [
    "Next, we will perform a run using programs. To use programs, the cascade workbook must describe program types, and the databook must have data entered for the programs. There are two parts to programs. First, we have a `ProgramSet` object that stores the program data from the databook:"
   ]
  },
  {
   "cell_type": "code",
   "execution_count": 11,
   "metadata": {
    "scrolled": true
   },
   "outputs": [
    {
     "name": "stderr",
     "output_type": "stream",
     "text": [
      "29-03-18 06:11:35    INFO     Created ProgramSet: default-progset\n"
     ]
    }
   ],
   "source": [
    "progset = proj.makeProgset(name='default-progset')"
   ]
  },
  {
   "cell_type": "markdown",
   "metadata": {},
   "source": [
    "Then, we have an `options` dictionary that contains settings specific to _running_ the programs, like what year to switch from the parset to the progset, or the amount of spending on each program."
   ]
  },
  {
   "cell_type": "code",
   "execution_count": 12,
   "metadata": {
    "scrolled": true
   },
   "outputs": [
    {
     "data": {
      "text/plain": [
       "['orig_alloc',\n",
       " 'objectives',\n",
       " 'progs_end',\n",
       " 'progs_start',\n",
       " 'saturate_with_default_budgets',\n",
       " 'init_alloc',\n",
       " 'constraints']"
      ]
     },
     "execution_count": 12,
     "metadata": {},
     "output_type": "execute_result"
    }
   ],
   "source": [
    "options = defaultOptimOptions(settings=proj.settings, progset = proj.progsets[0])\n",
    "options.keys()"
   ]
  },
  {
   "cell_type": "markdown",
   "metadata": {},
   "source": [
    "We can now run a simulation with programs, by passing in the parset, the progset, and the options:"
   ]
  },
  {
   "cell_type": "code",
   "execution_count": 14,
   "metadata": {},
   "outputs": [
    {
     "ename": "Exception",
     "evalue": "odict key \"tvec_dt\" not found; available keys are:\nimpact_pars_not_func\nprogs_start\nprogs_end\ninit_alloc\nconstraints\nalloc_is_coverage\nsaturate_with_default_budgets",
     "output_type": "error",
     "traceback": [
      "\u001b[0;31m\u001b[0m",
      "\u001b[0;31mException\u001b[0mTraceback (most recent call last)",
      "\u001b[0;32m<ipython-input-14-2acec56acbf8>\u001b[0m in \u001b[0;36m<module>\u001b[0;34m()\u001b[0m\n\u001b[0;32m----> 1\u001b[0;31m \u001b[0mprog_results\u001b[0m \u001b[0;34m=\u001b[0m \u001b[0mproj\u001b[0m\u001b[0;34m.\u001b[0m\u001b[0mrunSim\u001b[0m\u001b[0;34m(\u001b[0m\u001b[0mparset_name\u001b[0m\u001b[0;34m=\u001b[0m\u001b[0;34m'default'\u001b[0m\u001b[0;34m,\u001b[0m \u001b[0mprogset_name\u001b[0m\u001b[0;34m=\u001b[0m\u001b[0;34m'default-progset'\u001b[0m\u001b[0;34m,\u001b[0m \u001b[0moptions\u001b[0m\u001b[0;34m=\u001b[0m\u001b[0moptions\u001b[0m\u001b[0;34m,\u001b[0m \u001b[0mplot\u001b[0m\u001b[0;34m=\u001b[0m\u001b[0mFalse\u001b[0m\u001b[0;34m)\u001b[0m\u001b[0;34m\u001b[0m\u001b[0m\n\u001b[0m\u001b[1;32m      2\u001b[0m \u001b[0md\u001b[0m \u001b[0;34m=\u001b[0m \u001b[0mPlotData\u001b[0m\u001b[0;34m(\u001b[0m\u001b[0mprog_results\u001b[0m\u001b[0;34m,\u001b[0m\u001b[0mpops\u001b[0m\u001b[0;34m=\u001b[0m\u001b[0;34m'0-4'\u001b[0m\u001b[0;34m)\u001b[0m\u001b[0;34m\u001b[0m\u001b[0m\n\u001b[1;32m      3\u001b[0m \u001b[0mplotSeries\u001b[0m\u001b[0;34m(\u001b[0m\u001b[0md\u001b[0m\u001b[0;34m,\u001b[0m\u001b[0mplot_type\u001b[0m\u001b[0;34m=\u001b[0m\u001b[0;34m'stacked'\u001b[0m\u001b[0;34m)\u001b[0m\u001b[0;34m;\u001b[0m\u001b[0;34m\u001b[0m\u001b[0m\n",
      "\u001b[0;32m/Users/romesh/projects/ipm/OptimaTB/optima_tb/project.py\u001b[0m in \u001b[0;36mrunSim\u001b[0;34m(self, parset, parset_name, progset, progset_name, options, plot, full_output, store_results, result_type, result_name)\u001b[0m\n\u001b[1;32m     87\u001b[0m \u001b[0;34m\u001b[0m\u001b[0m\n\u001b[1;32m     88\u001b[0m         \u001b[0;31m# results = runModel(settings = self.settings, parset = parset)\u001b[0m\u001b[0;34m\u001b[0m\u001b[0;34m\u001b[0m\u001b[0m\n\u001b[0;32m---> 89\u001b[0;31m         \u001b[0mresults\u001b[0m \u001b[0;34m=\u001b[0m \u001b[0mrunModel\u001b[0m\u001b[0;34m(\u001b[0m\u001b[0msettings\u001b[0m\u001b[0;34m=\u001b[0m\u001b[0mself\u001b[0m\u001b[0;34m.\u001b[0m\u001b[0msettings\u001b[0m\u001b[0;34m,\u001b[0m \u001b[0mparset\u001b[0m\u001b[0;34m=\u001b[0m\u001b[0mparset\u001b[0m\u001b[0;34m,\u001b[0m \u001b[0mprogset\u001b[0m\u001b[0;34m=\u001b[0m\u001b[0mprogset\u001b[0m\u001b[0;34m,\u001b[0m \u001b[0moptions\u001b[0m\u001b[0;34m=\u001b[0m\u001b[0moptions\u001b[0m\u001b[0;34m,\u001b[0m\u001b[0mfull_output\u001b[0m\u001b[0;34m=\u001b[0m\u001b[0mfull_output\u001b[0m\u001b[0;34m)\u001b[0m\u001b[0;34m\u001b[0m\u001b[0m\n\u001b[0m\u001b[1;32m     90\u001b[0m \u001b[0;34m\u001b[0m\u001b[0m\n\u001b[1;32m     91\u001b[0m         \u001b[0mtoc\u001b[0m\u001b[0;34m(\u001b[0m\u001b[0mtm\u001b[0m\u001b[0;34m,\u001b[0m \u001b[0mlabel\u001b[0m\u001b[0;34m=\u001b[0m\u001b[0;34m'running %s model'\u001b[0m \u001b[0;34m%\u001b[0m \u001b[0mself\u001b[0m\u001b[0;34m.\u001b[0m\u001b[0mname\u001b[0m\u001b[0;34m)\u001b[0m\u001b[0;34m\u001b[0m\u001b[0m\n",
      "\u001b[0;32m/Users/romesh/projects/ipm/OptimaTB/optima_tb/model.py\u001b[0m in \u001b[0;36mrunModel\u001b[0;34m(settings, parset, progset, options, full_output, name)\u001b[0m\n\u001b[1;32m   1072\u001b[0m     '''\n\u001b[1;32m   1073\u001b[0m \u001b[0;34m\u001b[0m\u001b[0m\n\u001b[0;32m-> 1074\u001b[0;31m     \u001b[0mm\u001b[0m \u001b[0;34m=\u001b[0m \u001b[0mModel\u001b[0m\u001b[0;34m(\u001b[0m\u001b[0msettings\u001b[0m\u001b[0;34m,\u001b[0m \u001b[0mparset\u001b[0m\u001b[0;34m,\u001b[0m \u001b[0mprogset\u001b[0m\u001b[0;34m,\u001b[0m \u001b[0moptions\u001b[0m\u001b[0;34m,\u001b[0m\u001b[0mname\u001b[0m\u001b[0;34m)\u001b[0m\u001b[0;34m\u001b[0m\u001b[0m\n\u001b[0m\u001b[1;32m   1075\u001b[0m     \u001b[0mm\u001b[0m\u001b[0;34m.\u001b[0m\u001b[0mprocess\u001b[0m\u001b[0;34m(\u001b[0m\u001b[0msettings\u001b[0m\u001b[0;34m,\u001b[0m \u001b[0mprogset\u001b[0m\u001b[0;34m,\u001b[0m\u001b[0mfull_output\u001b[0m\u001b[0;34m)\u001b[0m\u001b[0;34m\u001b[0m\u001b[0m\n\u001b[1;32m   1076\u001b[0m \u001b[0;34m\u001b[0m\u001b[0m\n",
      "\u001b[0;32m/Users/romesh/projects/ipm/OptimaTB/optima_tb/model.py\u001b[0m in \u001b[0;36m__init__\u001b[0;34m(self, settings, parset, progset, options, name)\u001b[0m\n\u001b[1;32m    619\u001b[0m             \u001b[0mself\u001b[0m\u001b[0;34m.\u001b[0m\u001b[0mname\u001b[0m \u001b[0;34m=\u001b[0m \u001b[0mname\u001b[0m\u001b[0;34m\u001b[0m\u001b[0m\n\u001b[1;32m    620\u001b[0m \u001b[0;34m\u001b[0m\u001b[0m\n\u001b[0;32m--> 621\u001b[0;31m         \u001b[0mself\u001b[0m\u001b[0;34m.\u001b[0m\u001b[0mbuild\u001b[0m\u001b[0;34m(\u001b[0m\u001b[0msettings\u001b[0m\u001b[0;34m,\u001b[0m \u001b[0mparset\u001b[0m\u001b[0;34m,\u001b[0m \u001b[0mprogset\u001b[0m\u001b[0;34m,\u001b[0m \u001b[0moptions\u001b[0m\u001b[0;34m)\u001b[0m\u001b[0;34m\u001b[0m\u001b[0m\n\u001b[0m\u001b[1;32m    622\u001b[0m \u001b[0;34m\u001b[0m\u001b[0m\n\u001b[1;32m    623\u001b[0m     \u001b[0;32mdef\u001b[0m \u001b[0munlink\u001b[0m\u001b[0;34m(\u001b[0m\u001b[0mself\u001b[0m\u001b[0;34m)\u001b[0m\u001b[0;34m:\u001b[0m\u001b[0;34m\u001b[0m\u001b[0m\n",
      "\u001b[0;32m/Users/romesh/projects/ipm/OptimaTB/optima_tb/model.py\u001b[0m in \u001b[0;36mbuild\u001b[0;34m(self, settings, parset, progset, options)\u001b[0m\n\u001b[1;32m    774\u001b[0m                 \u001b[0mself\u001b[0m\u001b[0;34m.\u001b[0m\u001b[0mpset\u001b[0m \u001b[0;34m=\u001b[0m \u001b[0mModelProgramSet\u001b[0m\u001b[0;34m(\u001b[0m\u001b[0mprogset\u001b[0m\u001b[0;34m,\u001b[0m\u001b[0mself\u001b[0m\u001b[0;34m.\u001b[0m\u001b[0mpops\u001b[0m\u001b[0;34m)\u001b[0m \u001b[0;31m# Make a ModelProgramSet wrapper\u001b[0m\u001b[0;34m\u001b[0m\u001b[0m\n\u001b[1;32m    775\u001b[0m                 \u001b[0mself\u001b[0m\u001b[0;34m.\u001b[0m\u001b[0mpset\u001b[0m\u001b[0;34m.\u001b[0m\u001b[0mload_constraints\u001b[0m\u001b[0;34m(\u001b[0m\u001b[0mself\u001b[0m\u001b[0;34m.\u001b[0m\u001b[0msim_settings\u001b[0m\u001b[0;34m[\u001b[0m\u001b[0;34m'constraints'\u001b[0m\u001b[0;34m]\u001b[0m\u001b[0;34m)\u001b[0m\u001b[0;34m\u001b[0m\u001b[0m\n\u001b[0;32m--> 776\u001b[0;31m                 \u001b[0malloc\u001b[0m \u001b[0;34m=\u001b[0m \u001b[0mself\u001b[0m\u001b[0;34m.\u001b[0m\u001b[0mpset\u001b[0m\u001b[0;34m.\u001b[0m\u001b[0mget_alloc\u001b[0m\u001b[0;34m(\u001b[0m\u001b[0mself\u001b[0m\u001b[0;34m.\u001b[0m\u001b[0msim_settings\u001b[0m\u001b[0;34m)\u001b[0m\u001b[0;34m[\u001b[0m\u001b[0;36m0\u001b[0m\u001b[0;34m]\u001b[0m\u001b[0;34m\u001b[0m\u001b[0m\n\u001b[0m\u001b[1;32m    777\u001b[0m                 \u001b[0mself\u001b[0m\u001b[0;34m.\u001b[0m\u001b[0mpset\u001b[0m\u001b[0;34m.\u001b[0m\u001b[0mupdate_cache\u001b[0m\u001b[0;34m(\u001b[0m\u001b[0malloc\u001b[0m\u001b[0;34m,\u001b[0m\u001b[0mself\u001b[0m\u001b[0;34m.\u001b[0m\u001b[0mt\u001b[0m\u001b[0;34m,\u001b[0m\u001b[0mself\u001b[0m\u001b[0;34m.\u001b[0m\u001b[0mdt\u001b[0m\u001b[0;34m)\u001b[0m \u001b[0;31m# Perform precomputations\u001b[0m\u001b[0;34m\u001b[0m\u001b[0m\n\u001b[1;32m    778\u001b[0m \u001b[0;34m\u001b[0m\u001b[0m\n",
      "\u001b[0;32m/Users/romesh/projects/ipm/OptimaTB/optima_tb/ModelPrograms.py\u001b[0m in \u001b[0;36mget_alloc\u001b[0;34m(self, sim_settings)\u001b[0m\n\u001b[1;32m     88\u001b[0m         \u001b[0minit_alloc\u001b[0m \u001b[0;34m=\u001b[0m \u001b[0msim_settings\u001b[0m\u001b[0;34m[\u001b[0m\u001b[0;34m'init_alloc'\u001b[0m\u001b[0;34m]\u001b[0m\u001b[0;34m\u001b[0m\u001b[0m\n\u001b[1;32m     89\u001b[0m         \u001b[0malloc_is_coverage\u001b[0m \u001b[0;34m=\u001b[0m \u001b[0msim_settings\u001b[0m\u001b[0;34m[\u001b[0m\u001b[0;34m'alloc_is_coverage'\u001b[0m\u001b[0;34m]\u001b[0m\u001b[0;34m\u001b[0m\u001b[0m\n\u001b[0;32m---> 90\u001b[0;31m         \u001b[0mdt\u001b[0m \u001b[0;34m=\u001b[0m \u001b[0msim_settings\u001b[0m\u001b[0;34m[\u001b[0m\u001b[0;34m'tvec_dt'\u001b[0m\u001b[0;34m]\u001b[0m\u001b[0;34m\u001b[0m\u001b[0m\n\u001b[0m\u001b[1;32m     91\u001b[0m \u001b[0;34m\u001b[0m\u001b[0m\n\u001b[1;32m     92\u001b[0m         \u001b[0malloc\u001b[0m \u001b[0;34m=\u001b[0m \u001b[0mdict\u001b[0m\u001b[0;34m(\u001b[0m\u001b[0;34m)\u001b[0m\u001b[0;34m\u001b[0m\u001b[0m\n",
      "\u001b[0;32m/Users/romesh/projects/ipm/OptimaTB/optima_tb/utils.py\u001b[0m in \u001b[0;36m__getitem__\u001b[0;34m(self, key)\u001b[0m\n\u001b[1;32m    204\u001b[0m                         '\\n'.join([str(k) for k in self.keys()]))\n\u001b[1;32m    205\u001b[0m                 \u001b[0;32melse\u001b[0m\u001b[0;34m:\u001b[0m \u001b[0merrormsg\u001b[0m \u001b[0;34m=\u001b[0m \u001b[0;34m'Key \"%s\" not found since odict is empty'\u001b[0m\u001b[0;34m%\u001b[0m \u001b[0mkey\u001b[0m\u001b[0;34m\u001b[0m\u001b[0m\n\u001b[0;32m--> 206\u001b[0;31m                 \u001b[0;32mraise\u001b[0m \u001b[0mException\u001b[0m\u001b[0;34m(\u001b[0m\u001b[0merrormsg\u001b[0m\u001b[0;34m)\u001b[0m\u001b[0;34m\u001b[0m\u001b[0m\n\u001b[0m\u001b[1;32m    207\u001b[0m         \u001b[0;32melif\u001b[0m \u001b[0misinstance\u001b[0m\u001b[0;34m(\u001b[0m\u001b[0mkey\u001b[0m\u001b[0;34m,\u001b[0m \u001b[0mNumber\u001b[0m\u001b[0;34m)\u001b[0m\u001b[0;34m:\u001b[0m \u001b[0;31m# Convert automatically from float...dangerous?\u001b[0m\u001b[0;34m\u001b[0m\u001b[0m\n\u001b[1;32m    208\u001b[0m             \u001b[0mthiskey\u001b[0m \u001b[0;34m=\u001b[0m \u001b[0mself\u001b[0m\u001b[0;34m.\u001b[0m\u001b[0mkeys\u001b[0m\u001b[0;34m(\u001b[0m\u001b[0;34m)\u001b[0m\u001b[0;34m[\u001b[0m\u001b[0mint\u001b[0m\u001b[0;34m(\u001b[0m\u001b[0mkey\u001b[0m\u001b[0;34m)\u001b[0m\u001b[0;34m]\u001b[0m\u001b[0;34m\u001b[0m\u001b[0m\n",
      "\u001b[0;31mException\u001b[0m: odict key \"tvec_dt\" not found; available keys are:\nimpact_pars_not_func\nprogs_start\nprogs_end\ninit_alloc\nconstraints\nalloc_is_coverage\nsaturate_with_default_budgets"
     ]
    }
   ],
   "source": [
    "prog_results = proj.runSim(parset_name='default', progset_name='default-progset', options=options, plot=False)\n",
    "d = PlotData(prog_results,pops='0-4')\n",
    "plotSeries(d,plot_type='stacked');"
   ]
  },
  {
   "cell_type": "code",
   "execution_count": null,
   "metadata": {
    "collapsed": true
   },
   "outputs": [],
   "source": []
  }
 ],
 "metadata": {
  "kernelspec": {
   "display_name": "Python [conda env:optima2]",
   "language": "python",
   "name": "conda-env-optima2-py"
  },
  "language_info": {
   "codemirror_mode": {
    "name": "ipython",
    "version": 2
   },
   "file_extension": ".py",
   "mimetype": "text/x-python",
   "name": "python",
   "nbconvert_exporter": "python",
   "pygments_lexer": "ipython2",
   "version": "2.7.14"
  }
 },
 "nbformat": 4,
 "nbformat_minor": 2
}
