{
 "cells": [
  {
   "cell_type": "markdown",
   "metadata": {},
   "source": [
    "## Basic Workflow\n",
    "\n",
    "This notebook demonstrates how to perform a simple reconciliation"
   ]
  },
  {
   "cell_type": "code",
   "execution_count": 1,
   "metadata": {},
   "outputs": [
    {
     "name": "stdout",
     "output_type": "stream",
     "text": [
      "\n",
      "Optima TB: a TB optimization and analysis tool\n",
      "Copyright (C) 2017 by the Optima Consortium\n",
      "\n"
     ]
    }
   ],
   "source": [
    "# IMPORTS\n",
    "%load_ext autoreload\n",
    "%autoreload 2\n",
    "%matplotlib inline\n",
    "import sys\n",
    "sys.path.append('..')\n",
    "from optima_tb.project import Project\n",
    "from optima_tb.utils import odict\n",
    "from optima_tb.plotting import plotResult\n",
    "from optima_tb.defaults import defaultOptimOptions\n",
    "import optima_tb.plotting as oplt\n",
    "import optima_tb.plotting2 as oplt2\n",
    "import matplotlib.pyplot as plt\n",
    "import numpy as np\n",
    "from IPython.display import display, HTML\n",
    "from optima_tb.plotting2 import plotSeries, PlotData\n"
   ]
  },
  {
   "cell_type": "markdown",
   "metadata": {},
   "source": [
    "First, we will load in the cascade and databook, and do a simulation run with and without programs before reconciliation:"
   ]
  },
  {
   "cell_type": "code",
   "execution_count": 2,
   "metadata": {
    "scrolled": true
   },
   "outputs": [
    {
     "name": "stderr",
     "output_type": "stream",
     "text": [
      "03-04-18 15:05:29    INFO     Loading settings\n",
      "03-04-18 15:05:29    INFO     Validation settings: avert\n",
      "03-04-18 15:05:29    INFO     Loading plotting settings: dev\n",
      "03-04-18 15:05:29    INFO     The cascade was validated successfully!\n",
      "03-04-18 15:05:29    INFO     Created settings based on cascade: ../../tb-ucl-analyses/belarus/Cascade Spreadsheets/cascade-belarus.xlsx\n",
      "03-04-18 15:05:29    INFO     Created project: Belarus\n",
      "03-04-18 15:05:29    INFO     Attempting to load databook ../../tb-ucl-analyses/belarus/Databook Spreadsheets/databook-belarus.xlsx\n",
      "03-04-18 15:05:30    INFO     Created ParameterSet: default\n",
      "03-04-18 15:05:30    INFO     Created ProgramSet: default-progset\n",
      "03-04-18 15:05:30    INFO     Initiating a standard run of project \"Belarus\" (i.e. without the influence of programs).\n",
      "03-04-18 15:05:32    INFO     Elapsed time for running Belarus model: 2.102 s\n",
      "03-04-18 15:05:35    INFO     Elapsed time for running Belarus model: 2.712 s\n"
     ]
    }
   ],
   "source": [
    "cascade = '../../tb-ucl-analyses/belarus/Cascade Spreadsheets/cascade-belarus.xlsx'\n",
    "databook = '../../tb-ucl-analyses/belarus/Databook Spreadsheets/databook-belarus.xlsx'\n",
    "proj= Project(name = 'Belarus', cascade_path = cascade, validation_level = 'avert', plotting_level = 'dev')\n",
    "proj.loadSpreadsheet(databook_path=databook)\n",
    "parset = proj.makeParset(name='default')\n",
    "progset = proj.makeProgset(name='default-progset')\n",
    "parset_results = proj.runSim(parset_name='default', plot=False)\n",
    "options = defaultOptimOptions(settings=proj.settings, progset=proj.progsets[0])\n",
    "default_results = proj.runSim(parset_name='default', progset_name='default-progset', options=options)\n",
    "parset_results.name = 'Parset'\n",
    "default_results.name = 'Progset before reconciliation'"
   ]
  },
  {
   "cell_type": "code",
   "execution_count": 56,
   "metadata": {
    "scrolled": false
   },
   "outputs": [
    {
     "data": {
      "image/png": "[encoded data removed]",
      "text/plain": [
       "<Figure size 720x576 with 1 Axes>"
      ]
     },
     "metadata": {},
     "output_type": "display_data"
    }
   ],
   "source": [
    "d = PlotData([parset_results,default_results],outputs=['spdyes_rate'], pops=['15-64'])\n",
    "plotSeries(d,axis='results');"
   ]
  },
  {
   "cell_type": "markdown",
   "metadata": {},
   "source": [
    "Reconciliation is performed specifically at the reconciliation year, which is typically the year when the programs first become active. In this plot, the aim of reconciliation is to reduce the large drop in the year 2015. We will set this up by specifying the reconciliation options, including\n",
    "\n",
    "- `reconcile_for_year` which specifies the reconciliation year\n",
    "- `unitcost_sigma` and `attribute_sigma` which specifies how large a change is permitted for each of the program unit costs and attributes, as a fraction of the current value\n",
    "- `impact_pars` which is a list of which program impact parameters to consider when fitting the unit cost and attributes - when set to `None`, all of the impacts in the `ProgramSet` will be used"
   ]
  },
  {
   "cell_type": "code",
   "execution_count": 57,
   "metadata": {
    "collapsed": true
   },
   "outputs": [],
   "source": [
    "from optima_tb.reconciliation import reconcile\n",
    "parset_name='default'\n",
    "progset_name = 'default-progset'\n",
    "reconcile_for_year=2015\n",
    "unitcost_sigma=0.5\n",
    "attribute_sigma=0.5\n",
    "budget_sigma = 0.0\n",
    "impact_pars=None"
   ]
  },
  {
   "cell_type": "markdown",
   "metadata": {},
   "source": [
    "Now, we will perform reconciliation by calling the `reconcile` function"
   ]
  },
  {
   "cell_type": "code",
   "execution_count": 59,
   "metadata": {
    "scrolled": true
   },
   "outputs": [
    {
     "name": "stderr",
     "output_type": "stream",
     "text": [
      "03-04-18 17:09:16    INFO     Initiating a standard run of project \"Belarus\" (i.e. without the influence of programs).\n",
      "03-04-18 17:09:17    INFO     Elapsed time for running Belarus model: 1.028 s\n",
      "03-04-18 17:09:19    INFO     Elapsed time for running Belarus model: 1.482 s\n"
     ]
    },
    {
     "name": "stdout",
     "output_type": "stream",
     "text": [
      "     step 1 (0.0 s) ++ (orig: 55.059 | best:55.059 | new:55.045 | diff:-0.013458)\n",
      "     step 2 (0.1 s) -- (orig: 55.059 | best:55.045 | new:55.305 | diff:0.25992)\n",
      "     step 3 (0.1 s) ++ (orig: 55.059 | best:55.045 | new:55.019 | diff:-0.026595)\n",
      "     step 4 (0.1 s) ++ (orig: 55.059 | best:55.019 | new:54.570 | diff:-0.44896)\n",
      "     step 5 (0.2 s) ++ (orig: 55.059 | best:54.570 | new:54.568 | diff:-0.0012815)\n",
      "     step 6 (0.2 s) ++ (orig: 55.059 | best:54.568 | new:54.568 | diff:-0.000085468)\n",
      "     step 7 (0.2 s) -- (orig: 55.059 | best:54.568 | new:54.582 | diff:0.013458)\n",
      "     step 8 (0.3 s) ++ (orig: 55.059 | best:54.568 | new:54.532 | diff:-0.035808)\n",
      "     step 9 (0.3 s) ++ (orig: 55.059 | best:54.532 | new:54.322 | diff:-0.21085)\n",
      "     step 10 (0.3 s) -- (orig: 55.059 | best:54.322 | new:54.322 | diff:0)\n",
      "     step 11 (0.4 s) -- (orig: 55.059 | best:54.322 | new:54.323 | diff:0.0016579)\n",
      "     step 12 (0.4 s) -- (orig: 55.059 | best:54.322 | new:54.322 | diff:0)\n",
      "     step 13 (0.4 s) ++ (orig: 55.059 | best:54.322 | new:54.163 | diff:-0.15876)\n",
      "     step 14 (0.4 s) -- (orig: 55.059 | best:54.163 | new:54.170 | diff:0.0070333)\n",
      "     step 15 (0.5 s) -- (orig: 55.059 | best:54.163 | new:54.165 | diff:0.0017575)\n",
      "     step 16 (0.5 s) -- (orig: 55.059 | best:54.163 | new:54.175 | diff:0.012044)\n",
      "     step 17 (0.5 s) -- (orig: 55.059 | best:54.163 | new:54.163 | diff:0)\n",
      "     step 18 (0.6 s) -- (orig: 55.059 | best:54.163 | new:54.163 | diff:0.0000020081)\n",
      "     step 19 (0.6 s) -- (orig: 55.059 | best:54.163 | new:54.163 | diff:0)\n",
      "     step 20 (0.6 s) -- (orig: 55.059 | best:54.163 | new:54.163 | diff:0.0000075177)\n",
      "     step 21 (0.7 s) ++ (orig: 55.059 | best:54.163 | new:54.161 | diff:-0.0013865)\n",
      "     step 22 (0.7 s) ++ (orig: 55.059 | best:54.161 | new:54.118 | diff:-0.043234)\n",
      "     step 23 (0.7 s) -- (orig: 55.059 | best:54.118 | new:54.125 | diff:0.0071450)\n",
      "     step 24 (0.8 s) ++ (orig: 55.059 | best:54.118 | new:54.073 | diff:-0.045133)\n",
      "     step 25 (0.8 s) ++ (orig: 55.059 | best:54.073 | new:53.966 | diff:-0.10714)\n",
      "     step 26 (0.8 s) -- (orig: 55.059 | best:53.966 | new:53.966 | diff:0)\n",
      "     step 27 (0.9 s) ++ (orig: 55.059 | best:53.966 | new:53.961 | diff:-0.0046836)\n",
      "     step 28 (0.9 s) ++ (orig: 55.059 | best:53.961 | new:53.913 | diff:-0.048687)\n",
      "     step 29 (0.9 s) ++ (orig: 55.059 | best:53.913 | new:53.364 | diff:-0.54852)\n",
      "     step 30 (1.0 s) -- (orig: 55.059 | best:53.364 | new:58.656 | diff:5.2919)\n",
      "     step 31 (1.0 s) ++ (orig: 55.059 | best:53.364 | new:53.363 | diff:-0.0013523)\n",
      "     step 32 (1.0 s) -- (orig: 55.059 | best:53.363 | new:53.373 | diff:0.010749)\n",
      "     step 33 (1.1 s) ++ (orig: 55.059 | best:53.363 | new:53.276 | diff:-0.087176)\n",
      "     step 34 (1.1 s) ++ (orig: 55.059 | best:53.276 | new:53.156 | diff:-0.11922)\n",
      "     step 35 (1.1 s) ++ (orig: 55.059 | best:53.156 | new:52.894 | diff:-0.26198)\n",
      "     step 36 (1.2 s) -- (orig: 55.059 | best:52.894 | new:52.899 | diff:0.0046836)\n",
      "     step 37 (1.2 s) -- (orig: 55.059 | best:52.894 | new:52.895 | diff:0.00024994)\n",
      "     step 38 (1.2 s) ++ (orig: 55.059 | best:52.894 | new:52.874 | diff:-0.020595)\n",
      "     step 39 (1.3 s) -- (orig: 55.059 | best:52.874 | new:52.874 | diff:0)\n",
      "     step 40 (1.3 s) -- (orig: 55.059 | best:52.874 | new:52.874 | diff:0.00052089)\n",
      "     step 41 (1.3 s) ++ (orig: 55.059 | best:52.874 | new:52.284 | diff:-0.59015)\n",
      "     step 42 (1.4 s) ++ (orig: 55.059 | best:52.284 | new:52.071 | diff:-0.21266)\n",
      "     step 43 (1.4 s) -- (orig: 55.059 | best:52.071 | new:52.071 | diff:0.000029872)\n",
      "     step 44 (1.5 s) ++ (orig: 55.059 | best:52.071 | new:52.071 | diff:-0.000096957)\n",
      "     step 45 (1.5 s) ++ (orig: 55.059 | best:52.071 | new:52.071 | diff:-0.00015495)\n",
      "     step 46 (1.5 s) -- (orig: 55.059 | best:52.071 | new:52.071 | diff:0.00000092487)\n",
      "     step 47 (1.6 s) ++ (orig: 55.059 | best:52.071 | new:52.070 | diff:-0.00018592)\n",
      "     step 48 (1.6 s) ++ (orig: 55.059 | best:52.070 | new:47.740 | diff:-4.3305)\n",
      "     step 49 (1.6 s) ++ (orig: 55.059 | best:47.740 | new:47.689 | diff:-0.050910)\n",
      "     step 50 (1.7 s) -- (orig: 55.059 | best:47.689 | new:47.695 | diff:0.0056117)\n",
      "     step 51 (1.7 s) ++ (orig: 55.059 | best:47.689 | new:47.434 | diff:-0.25519)\n",
      "     step 52 (1.7 s) ++ (orig: 55.059 | best:47.434 | new:47.427 | diff:-0.0065226)\n",
      "     step 53 (1.8 s) -- (orig: 55.059 | best:47.427 | new:47.434 | diff:0.0065226)\n",
      "     step 54 (1.8 s) ++ (orig: 55.059 | best:47.427 | new:47.142 | diff:-0.28547)\n",
      "     step 55 (1.8 s) ++ (orig: 55.059 | best:47.142 | new:47.136 | diff:-0.0058468)\n",
      "     step 56 (1.9 s) -- (orig: 55.059 | best:47.136 | new:47.136 | diff:0)\n",
      "     step 57 (1.9 s) ++ (orig: 55.059 | best:47.136 | new:47.136 | diff:-0.000050151)\n",
      "     step 58 (1.9 s) ++ (orig: 55.059 | best:47.136 | new:47.136 | diff:-0.000075220)\n",
      "     step 59 (2.0 s) -- (orig: 55.059 | best:47.136 | new:47.138 | diff:0.0020293)\n",
      "     step 60 (2.0 s) ++ (orig: 55.059 | best:47.136 | new:47.122 | diff:-0.013958)\n",
      "     step 61 (2.0 s) ++ (orig: 55.059 | best:47.122 | new:47.122 | diff:-0.00023012)\n",
      "     step 62 (2.0 s) ++ (orig: 55.059 | best:47.122 | new:47.113 | diff:-0.0085537)\n",
      "     step 63 (2.1 s) ++ (orig: 55.059 | best:47.113 | new:47.110 | diff:-0.0029975)\n",
      "     step 64 (2.1 s) -- (orig: 55.059 | best:47.110 | new:47.140 | diff:0.030052)\n",
      "     step 65 (2.2 s) -- (orig: 55.059 | best:47.110 | new:49.172 | diff:2.0618)\n",
      "     step 66 (2.2 s) -- (orig: 55.059 | best:47.110 | new:47.117 | diff:0.0072212)\n",
      "     step 67 (2.3 s) ++ (orig: 55.059 | best:47.110 | new:47.092 | diff:-0.018606)\n",
      "     step 68 (2.3 s) ++ (orig: 55.059 | best:47.092 | new:47.092 | diff:-0.0000088837)\n",
      "     step 69 (2.4 s) -- (orig: 55.059 | best:47.092 | new:47.092 | diff:0)\n",
      "     step 70 (2.4 s) ++ (orig: 55.059 | best:47.092 | new:47.081 | diff:-0.010990)\n",
      "     step 71 (2.4 s) -- (orig: 55.059 | best:47.081 | new:47.085 | diff:0.0047313)\n",
      "     step 72 (2.5 s) -- (orig: 55.059 | best:47.081 | new:47.081 | diff:0)\n",
      "     step 73 (2.5 s) ++ (orig: 55.059 | best:47.081 | new:47.081 | diff:-0.0000066401)\n",
      "     step 74 (2.6 s) -- (orig: 55.059 | best:47.081 | new:47.084 | diff:0.0032548)\n",
      "     step 75 (2.6 s) ++ (orig: 55.059 | best:47.081 | new:47.076 | diff:-0.0046531)\n",
      "     step 76 (2.6 s) -- (orig: 55.059 | best:47.076 | new:47.109 | diff:0.032854)\n",
      "     step 77 (2.7 s) -- (orig: 55.059 | best:47.076 | new:47.078 | diff:0.0024430)\n",
      "     step 78 (2.7 s) ++ (orig: 55.059 | best:47.076 | new:47.076 | diff:-0.0000012429)\n",
      "     step 79 (2.7 s) -- (orig: 55.059 | best:47.076 | new:47.091 | diff:0.015243)\n",
      "     step 80 (2.8 s) ++ (orig: 55.059 | best:47.076 | new:47.076 | diff:-0.00000046590)\n",
      "     step 81 (2.8 s) ++ (orig: 55.059 | best:47.076 | new:47.076 | diff:-0.00000017469)\n",
      "     step 82 (2.9 s) ++ (orig: 55.059 | best:47.076 | new:47.076 | diff:-0.000000065504)\n",
      "     step 83 (2.9 s) ++ (orig: 55.059 | best:47.076 | new:47.076 | diff:-0.000000024563)\n",
      "     step 84 (2.9 s) ++ (orig: 55.059 | best:47.076 | new:47.076 | diff:-0.0000000092112)\n",
      "     step 85 (3.0 s) ++ (orig: 55.059 | best:47.076 | new:47.076 | diff:-0.0000000069084)\n",
      "     step 86 (3.0 s) ++ (orig: 55.059 | best:47.076 | new:47.075 | diff:-0.00098480)\n",
      "     step 87 (3.1 s) ++ (orig: 55.059 | best:47.075 | new:47.075 | diff:-0.0000000012953)\n",
      "     step 88 (3.1 s) ++ (orig: 55.059 | best:47.075 | new:47.075 | diff:-0.000000000030354)\n",
      "     step 89 (3.1 s) ++ (orig: 55.059 | best:47.075 | new:47.075 | diff:-0.000000000011383)\n",
      "     step 90 (3.2 s) ++ (orig: 55.059 | best:47.075 | new:47.075 | diff:-0.0000000000042775)\n",
      "     step 91 (3.2 s) ++ (orig: 55.059 | best:47.075 | new:47.075 | diff:-0.0000000000015916)\n",
      "     step 92 (3.2 s) ++ (orig: 55.059 | best:47.075 | new:47.075 | diff:-0.0000000000012079)\n",
      "     step 93 (3.3 s) ++ (orig: 55.059 | best:47.075 | new:47.075 | diff:-0.00000000000022737)\n",
      "     step 94 (3.3 s) ++ (orig: 55.059 | best:47.075 | new:47.075 | diff:-0.000000000000071054)\n",
      "     step 95 (3.4 s) ++ (orig: 55.059 | best:47.075 | new:47.075 | diff:-0.000000000000042633)\n",
      "     step 96 (3.4 s) -- (orig: 55.059 | best:47.075 | new:47.075 | diff:0)\n",
      "     step 97 (3.4 s) -- (orig: 55.059 | best:47.075 | new:47.075 | diff:0)\n",
      "     step 98 (3.5 s) -- (orig: 55.059 | best:47.075 | new:47.075 | diff:0)\n",
      "     step 99 (3.5 s) -- (orig: 55.059 | best:47.075 | new:47.075 | diff:0)\n",
      "     step 100 (3.5 s) -- (orig: 55.059 | best:47.075 | new:47.075 | diff:0)\n",
      "     step 101 (3.6 s) -- (orig: 55.059 | best:47.075 | new:47.075 | diff:0)\n",
      "     step 102 (3.6 s) -- (orig: 55.059 | best:47.075 | new:47.075 | diff:0)\n",
      "     step 103 (3.7 s) -- (orig: 55.059 | best:47.075 | new:47.075 | diff:0)\n",
      "     step 104 (3.7 s) -- (orig: 55.059 | best:47.075 | new:47.075 | diff:0)\n",
      "     step 105 (3.7 s) -- (orig: 55.059 | best:47.075 | new:47.075 | diff:0)\n"
     ]
    },
    {
     "name": "stdout",
     "output_type": "stream",
     "text": [
      "     step 106 (3.8 s) -- (orig: 55.059 | best:47.075 | new:47.075 | diff:0)\n",
      "     step 107 (3.8 s) -- (orig: 55.059 | best:47.075 | new:47.075 | diff:0)\n",
      "     step 108 (3.8 s) -- (orig: 55.059 | best:47.075 | new:47.075 | diff:0)\n",
      "     step 109 (3.8 s) -- (orig: 55.059 | best:47.075 | new:47.075 | diff:0)\n",
      "     step 110 (3.9 s) -- (orig: 55.059 | best:47.075 | new:47.075 | diff:0)\n",
      "     step 111 (3.9 s) -- (orig: 55.059 | best:47.075 | new:47.075 | diff:0)\n",
      "     step 112 (3.9 s) ++ (orig: 55.059 | best:47.075 | new:47.075 | diff:-0.00027649)\n",
      "     step 113 (4.0 s) -- (orig: 55.059 | best:47.075 | new:47.075 | diff:0)\n",
      "     step 114 (4.0 s) -- (orig: 55.059 | best:47.075 | new:47.079 | diff:0.0043372)\n",
      "     step 115 (4.0 s) ++ (orig: 55.059 | best:47.075 | new:47.074 | diff:-0.00020687)\n",
      "     step 116 (4.1 s) -- (orig: 55.059 | best:47.074 | new:47.075 | diff:0.00084248)\n",
      "     step 117 (4.1 s) ++ (orig: 55.059 | best:47.074 | new:47.061 | diff:-0.013147)\n",
      "     step 118 (4.1 s) -- (orig: 55.059 | best:47.061 | new:47.188 | diff:0.12641)\n",
      "     step 119 (4.2 s) ++ (orig: 55.059 | best:47.061 | new:47.058 | diff:-0.0037137)\n",
      "     step 120 (4.2 s) -- (orig: 55.059 | best:47.058 | new:47.058 | diff:0.000044810)\n",
      "     step 121 (4.2 s) ++ (orig: 55.059 | best:47.058 | new:47.022 | diff:-0.035304)\n",
      "     step 122 (4.3 s) ++ (orig: 55.059 | best:47.022 | new:47.021 | diff:-0.0012381)\n",
      "     step 123 (4.3 s) ++ (orig: 55.059 | best:47.021 | new:47.001 | diff:-0.020237)\n",
      "     step 124 (4.3 s) ++ (orig: 55.059 | best:47.001 | new:47.001 | diff:-0.000038740)\n",
      "     step 125 (4.4 s) ++ (orig: 55.059 | best:47.001 | new:47.001 | diff:-0.000014524)\n",
      "     step 126 (4.4 s) -- (orig: 55.059 | best:47.001 | new:47.001 | diff:0)\n",
      "     step 127 (4.4 s) ++ (orig: 55.059 | best:47.001 | new:47.001 | diff:-0.0000054459)\n",
      "     step 128 (4.5 s) ++ (orig: 55.059 | best:47.001 | new:47.001 | diff:-0.0000020421)\n",
      "     step 129 (4.5 s) -- (orig: 55.059 | best:47.001 | new:47.001 | diff:0)\n",
      "     step 130 (4.5 s) ++ (orig: 55.059 | best:47.001 | new:47.001 | diff:-0.00000076578)\n",
      "     step 131 (4.5 s) ++ (orig: 55.059 | best:47.001 | new:47.001 | diff:-0.00000028717)\n",
      "     step 132 (4.6 s) ++ (orig: 55.059 | best:47.001 | new:47.001 | diff:-0.00000021538)\n",
      "     step 133 (4.6 s) ++ (orig: 55.059 | best:47.001 | new:47.001 | diff:-0.000000040383)\n",
      "     step 134 (4.6 s) ++ (orig: 55.059 | best:47.001 | new:47.001 | diff:-0.00000000094642)\n",
      "     step 135 (4.7 s) ++ (orig: 55.059 | best:47.001 | new:47.001 | diff:-0.00000000035496)\n",
      "     step 136 (4.7 s) ++ (orig: 55.059 | best:47.001 | new:47.001 | diff:-0.00000000013312)\n",
      "     step 137 (4.7 s) ++ (orig: 55.059 | best:47.001 | new:47.001 | diff:-0.000000000049866)\n",
      "     step 138 (4.8 s) ++ (orig: 55.059 | best:47.001 | new:47.001 | diff:-0.000000000037467)\n",
      "     step 139 (4.8 s) ++ (orig: 55.059 | best:47.001 | new:47.001 | diff:-0.0000000000070060)\n",
      "     step 140 (4.8 s) ++ (orig: 55.059 | best:47.001 | new:47.001 | diff:-0.0000000000026148)\n",
      "     step 141 (4.9 s) ++ (orig: 55.059 | best:47.001 | new:47.001 | diff:-0.00000000000099476)\n",
      "     step 142 (4.9 s) ++ (orig: 55.059 | best:47.001 | new:47.001 | diff:-0.00000000000011369)\n",
      "     step 143 (4.9 s) ++ (orig: 55.059 | best:47.001 | new:47.001 | diff:-0.000000000000028422)\n",
      "     step 144 (5.0 s) ++ (orig: 55.059 | best:47.001 | new:47.001 | diff:-0.000000000000021316)\n",
      "     step 145 (5.0 s) -- (orig: 55.059 | best:47.001 | new:47.001 | diff:0)\n",
      "     step 146 (5.0 s) -- (orig: 55.059 | best:47.001 | new:47.001 | diff:0)\n",
      "     step 147 (5.1 s) -- (orig: 55.059 | best:47.001 | new:47.001 | diff:0)\n",
      "     step 148 (5.1 s) -- (orig: 55.059 | best:47.001 | new:47.001 | diff:0)\n",
      "     step 149 (5.1 s) -- (orig: 55.059 | best:47.001 | new:47.001 | diff:0)\n",
      "     step 150 (5.2 s) -- (orig: 55.059 | best:47.001 | new:47.001 | diff:0)\n",
      "     step 151 (5.2 s) -- (orig: 55.059 | best:47.001 | new:47.001 | diff:0)\n",
      "     step 152 (5.2 s) -- (orig: 55.059 | best:47.001 | new:47.001 | diff:0)\n",
      "     step 153 (5.3 s) -- (orig: 55.059 | best:47.001 | new:47.001 | diff:0)\n",
      "     step 154 (5.3 s) -- (orig: 55.059 | best:47.001 | new:47.001 | diff:0)\n",
      "     step 155 (5.3 s) -- (orig: 55.059 | best:47.001 | new:47.001 | diff:0)\n",
      "     step 156 (5.4 s) -- (orig: 55.059 | best:47.001 | new:47.001 | diff:0)\n",
      "     step 157 (5.4 s) -- (orig: 55.059 | best:47.001 | new:47.001 | diff:0)\n",
      "     step 158 (5.4 s) -- (orig: 55.059 | best:47.001 | new:47.001 | diff:0)\n",
      "     step 159 (5.5 s) -- (orig: 55.059 | best:47.001 | new:47.001 | diff:0)\n",
      "     step 160 (5.5 s) -- (orig: 55.059 | best:47.001 | new:47.001 | diff:0)\n",
      "     step 161 (5.5 s) -- (orig: 55.059 | best:47.001 | new:47.001 | diff:0)\n",
      "     step 162 (5.6 s) -- (orig: 55.059 | best:47.001 | new:47.001 | diff:0)\n",
      "     step 163 (5.6 s) -- (orig: 55.059 | best:47.001 | new:47.001 | diff:0)\n",
      "     step 164 (5.6 s) -- (orig: 55.059 | best:47.001 | new:47.005 | diff:0.0046531)\n",
      "     step 165 (5.7 s) ++ (orig: 55.059 | best:47.001 | new:47.000 | diff:-0.00093354)\n",
      "     step 166 (5.7 s) -- (orig: 55.059 | best:47.000 | new:47.000 | diff:0)\n",
      "     step 167 (5.7 s) -- (orig: 55.059 | best:47.000 | new:47.000 | diff:0)\n",
      "     step 168 (5.7 s) ++ (orig: 55.059 | best:47.000 | new:46.952 | diff:-0.047610)\n",
      "     step 169 (5.8 s) ++ (orig: 55.059 | best:46.952 | new:46.949 | diff:-0.0027233)\n",
      "     step 170 (5.8 s) ++ (orig: 55.059 | best:46.949 | new:46.907 | diff:-0.042924)\n",
      "     step 171 (5.8 s) -- (orig: 55.059 | best:46.907 | new:46.924 | diff:0.017665)\n",
      "     step 172 (5.9 s) ++ (orig: 55.059 | best:46.907 | new:46.873 | diff:-0.033196)\n",
      "     step 173 (5.9 s) ++ (orig: 55.059 | best:46.873 | new:46.873 | diff:-0.000017410)\n",
      "     step 174 (5.9 s) ++ (orig: 55.059 | best:46.873 | new:46.873 | diff:-0.00017552)\n",
      "     step 175 (6.0 s) ++ (orig: 55.059 | best:46.873 | new:46.868 | diff:-0.0052281)\n",
      "     step 176 (6.0 s) ++ (orig: 55.059 | best:46.868 | new:46.868 | diff:-0.000065858)\n",
      "     step 177 (6.0 s) ++ (orig: 55.059 | best:46.868 | new:46.868 | diff:-0.000024702)\n",
      "     step 178 (6.1 s) -- (orig: 55.059 | best:46.868 | new:46.951 | diff:0.083582)\n",
      "     step 179 (6.1 s) -- (orig: 55.059 | best:46.868 | new:46.870 | diff:0.0017153)\n",
      "     step 180 (6.1 s) ++ (orig: 55.059 | best:46.868 | new:46.868 | diff:-0.0000092640)\n",
      "     step 181 (6.2 s) ++ (orig: 55.059 | best:46.868 | new:46.868 | diff:-0.0000034741)\n",
      "     step 182 (6.2 s) ++ (orig: 55.059 | best:46.868 | new:46.868 | diff:-0.0000013028)\n",
      "     step 183 (6.2 s) ++ (orig: 55.059 | best:46.868 | new:46.868 | diff:-0.00000097711)\n",
      "     step 184 (6.3 s) ++ (orig: 55.059 | best:46.868 | new:46.868 | diff:-0.00000018321)\n",
      "     step 185 (6.3 s) ++ (orig: 55.059 | best:46.868 | new:46.868 | diff:-0.0000000042940)\n",
      "     step 186 (6.3 s) ++ (orig: 55.059 | best:46.868 | new:46.868 | diff:-0.0000000016103)\n",
      "     step 187 (6.4 s) ++ (orig: 55.059 | best:46.868 | new:46.868 | diff:-0.00000000060382)\n",
      "     step 188 (6.4 s) ++ (orig: 55.059 | best:46.868 | new:46.868 | diff:-0.00000000022644)\n",
      "     step 189 (6.4 s) ++ (orig: 55.059 | best:46.868 | new:46.868 | diff:-0.00000000016983)\n",
      "     step 190 (6.5 s) ++ (orig: 55.059 | best:46.868 | new:46.868 | diff:-0.000000000031861)\n",
      "     step 191 (6.5 s) ++ (orig: 55.059 | best:46.868 | new:46.868 | diff:-0.000000000011916)\n",
      "     step 192 (6.5 s) ++ (orig: 55.059 | best:46.868 | new:46.868 | diff:-0.0000000000045048)\n",
      "     step 193 (6.6 s) ++ (orig: 55.059 | best:46.868 | new:46.868 | diff:-0.00000000000041211)\n",
      "     step 194 (6.6 s) ++ (orig: 55.059 | best:46.868 | new:46.868 | diff:-0.00000000000014211)\n",
      "     step 195 (6.6 s) ++ (orig: 55.059 | best:46.868 | new:46.868 | diff:-0.00000000000011369)\n",
      "     step 196 (6.7 s) ++ (orig: 55.059 | best:46.868 | new:46.868 | diff:-0.000000000000014211)\n",
      "     step 197 (6.7 s) ++ (orig: 55.059 | best:46.868 | new:46.868 | diff:-0.000000000000021316)\n",
      "     step 198 (6.7 s) -- (orig: 55.059 | best:46.868 | new:46.868 | diff:0)\n",
      "     step 199 (6.8 s) -- (orig: 55.059 | best:46.868 | new:46.868 | diff:0)\n",
      "     step 200 (6.8 s) -- (orig: 55.059 | best:46.868 | new:46.868 | diff:0)\n",
      "     step 201 (6.8 s) -- (orig: 55.059 | best:46.868 | new:46.868 | diff:0)\n",
      "     step 202 (6.9 s) -- (orig: 55.059 | best:46.868 | new:46.868 | diff:0)\n",
      "     step 203 (6.9 s) -- (orig: 55.059 | best:46.868 | new:46.868 | diff:0)\n",
      "     step 204 (6.9 s) -- (orig: 55.059 | best:46.868 | new:46.868 | diff:0)\n",
      "     step 205 (7.0 s) -- (orig: 55.059 | best:46.868 | new:46.868 | diff:0)\n",
      "     step 206 (7.0 s) -- (orig: 55.059 | best:46.868 | new:46.868 | diff:0)\n",
      "     step 207 (7.0 s) -- (orig: 55.059 | best:46.868 | new:46.868 | diff:0)\n",
      "     step 208 (7.0 s) -- (orig: 55.059 | best:46.868 | new:46.868 | diff:0)\n",
      "     step 209 (7.1 s) -- (orig: 55.059 | best:46.868 | new:46.868 | diff:0)\n"
     ]
    },
    {
     "name": "stdout",
     "output_type": "stream",
     "text": [
      "     step 210 (7.1 s) -- (orig: 55.059 | best:46.868 | new:46.868 | diff:0)\n",
      "     step 211 (7.1 s) -- (orig: 55.059 | best:46.868 | new:46.868 | diff:0)\n",
      "     step 212 (7.2 s) -- (orig: 55.059 | best:46.868 | new:46.868 | diff:0)\n",
      "     step 213 (7.2 s) -- (orig: 55.059 | best:46.868 | new:46.868 | diff:0)\n",
      "     step 214 (7.2 s) -- (orig: 55.059 | best:46.868 | new:46.868 | diff:0)\n",
      "     step 215 (7.3 s) -- (orig: 55.059 | best:46.868 | new:46.868 | diff:0)\n",
      "     step 216 (7.3 s) -- (orig: 55.059 | best:46.868 | new:46.868 | diff:0)\n",
      "     step 217 (7.3 s) ++ (orig: 55.059 | best:46.868 | new:46.868 | diff:-0.0000026398)\n",
      "     step 218 (7.4 s) -- (orig: 55.059 | best:46.868 | new:46.868 | diff:0)\n",
      "     step 219 (7.4 s) ++ (orig: 55.059 | best:46.868 | new:46.868 | diff:-0.0000039597)\n",
      "     step 220 (7.4 s) -- (orig: 55.059 | best:46.868 | new:46.868 | diff:0.00000044466)\n",
      "     step 221 (7.5 s) -- (orig: 55.059 | best:46.868 | new:46.868 | diff:0)\n",
      "     step 222 (7.5 s) -- (orig: 55.059 | best:46.868 | new:46.869 | diff:0.0011112)\n",
      "     step 223 (7.5 s) -- (orig: 55.059 | best:46.868 | new:46.868 | diff:0)\n",
      "     step 224 (7.6 s) -- (orig: 55.059 | best:46.868 | new:46.868 | diff:0)\n",
      "     step 225 (7.6 s) -- (orig: 55.059 | best:46.868 | new:46.868 | diff:0)\n",
      "     step 226 (7.6 s) -- (orig: 55.059 | best:46.868 | new:46.868 | diff:0)\n",
      "     step 227 (7.7 s) ++ (orig: 55.059 | best:46.868 | new:46.864 | diff:-0.0038765)\n",
      "     step 228 (7.7 s) -- (orig: 55.059 | best:46.864 | new:46.864 | diff:0)\n",
      "     step 229 (7.7 s) -- (orig: 55.059 | best:46.864 | new:46.864 | diff:0)\n",
      "     step 230 (7.8 s) -- (orig: 55.059 | best:46.864 | new:46.895 | diff:0.031053)\n",
      "     step 231 (7.8 s) -- (orig: 55.059 | best:46.864 | new:46.864 | diff:0)\n",
      "     step 232 (7.8 s) ++ (orig: 55.059 | best:46.864 | new:46.860 | diff:-0.0042600)\n",
      "     step 233 (7.9 s) -- (orig: 55.059 | best:46.860 | new:46.860 | diff:0)\n",
      "     step 234 (7.9 s) ++ (orig: 55.059 | best:46.860 | new:46.856 | diff:-0.0039192)\n",
      "     step 235 (7.9 s) ++ (orig: 55.059 | best:46.856 | new:41.664 | diff:-5.1920)\n",
      "     step 236 (8.0 s) ++ (orig: 55.059 | best:41.664 | new:41.664 | diff:-0.0000076916)\n",
      "     step 237 (8.0 s) -- (orig: 55.059 | best:41.664 | new:41.664 | diff:0)\n",
      "     step 238 (8.0 s) ++ (orig: 55.059 | best:41.664 | new:41.661 | diff:-0.0029846)\n",
      "     step 239 (8.0 s) -- (orig: 55.059 | best:41.661 | new:41.662 | diff:0.00078054)\n",
      "     step 240 (8.1 s) ++ (orig: 55.059 | best:41.661 | new:41.638 | diff:-0.022360)\n",
      "     step 241 (8.1 s) ++ (orig: 55.059 | best:41.638 | new:41.636 | diff:-0.0018871)\n",
      "     step 242 (8.1 s) ++ (orig: 55.059 | best:41.636 | new:41.636 | diff:-0.0000068263)\n",
      "     step 243 (8.2 s) -- (orig: 55.059 | best:41.636 | new:41.636 | diff:0)\n",
      "     step 244 (8.2 s) -- (orig: 55.059 | best:41.636 | new:41.861 | diff:0.22416)\n",
      "     step 245 (8.3 s) ++ (orig: 55.059 | best:41.636 | new:41.636 | diff:-0.00055850)\n",
      "     step 246 (8.3 s) ++ (orig: 55.059 | best:41.636 | new:41.634 | diff:-0.0023412)\n",
      "     step 247 (8.4 s) -- (orig: 55.059 | best:41.634 | new:41.644 | diff:0.010220)\n",
      "     step 248 (8.4 s) ++ (orig: 55.059 | best:41.634 | new:41.633 | diff:-0.00020935)\n",
      "     step 249 (8.4 s) -- (orig: 55.059 | best:41.633 | new:41.633 | diff:0)\n",
      "     step 250 (8.5 s) ++ (orig: 55.059 | best:41.633 | new:41.633 | diff:-0.000078492)\n",
      "     step 251 (8.5 s) ++ (orig: 55.059 | best:41.633 | new:41.631 | diff:-0.0018990)\n",
      "     step 252 (8.5 s) ++ (orig: 55.059 | best:41.631 | new:41.631 | diff:-0.000029433)\n",
      "     step 253 (8.6 s) ++ (orig: 55.059 | best:41.631 | new:41.631 | diff:-0.000011037)\n",
      "     step 254 (8.6 s) ++ (orig: 55.059 | best:41.631 | new:41.631 | diff:-0.0000041389)\n",
      "     step 255 (8.6 s) ++ (orig: 55.059 | best:41.631 | new:41.631 | diff:-0.0000031041)\n",
      "     step 256 (8.7 s) ++ (orig: 55.059 | best:41.631 | new:41.631 | diff:-0.00000058202)\n",
      "     step 257 (8.7 s) ++ (orig: 55.059 | best:41.631 | new:41.631 | diff:-0.000000013641)\n",
      "     step 258 (8.7 s) ++ (orig: 55.059 | best:41.631 | new:41.631 | diff:-0.0000000051155)\n",
      "     step 259 (8.8 s) ++ (orig: 55.059 | best:41.631 | new:41.631 | diff:-0.0000000019183)\n",
      "     step 260 (8.8 s) ++ (orig: 55.059 | best:41.631 | new:41.631 | diff:-0.00000000071934)\n",
      "     step 261 (8.8 s) ++ (orig: 55.059 | best:41.631 | new:41.631 | diff:-0.00000000053952)\n",
      "     step 262 (8.9 s) ++ (orig: 55.059 | best:41.631 | new:41.631 | diff:-0.00000000010115)\n",
      "     step 263 (8.9 s) ++ (orig: 55.059 | best:41.631 | new:41.631 | diff:-0.000000000037943)\n",
      "     step 264 (9.0 s) ++ (orig: 55.059 | best:41.631 | new:41.631 | diff:-0.000000000014225)\n",
      "     step 265 (9.1 s) ++ (orig: 55.059 | best:41.631 | new:41.631 | diff:-0.0000000000013358)\n",
      "     step 266 (9.1 s) ++ (orig: 55.059 | best:41.631 | new:41.631 | diff:-0.00000000000048317)\n",
      "     step 267 (9.1 s) ++ (orig: 55.059 | best:41.631 | new:41.631 | diff:-0.00000000000039790)\n",
      "     step 268 (9.2 s) ++ (orig: 55.059 | best:41.631 | new:41.631 | diff:-0.000000000000071054)\n",
      "     step 269 (9.2 s) ++ (orig: 55.059 | best:41.631 | new:41.631 | diff:-0.000000000000014211)\n",
      "     step 270 (9.2 s) -- (orig: 55.059 | best:41.631 | new:41.631 | diff:0)\n",
      "     step 271 (9.3 s) -- (orig: 55.059 | best:41.631 | new:41.631 | diff:0)\n",
      "     step 272 (9.3 s) -- (orig: 55.059 | best:41.631 | new:41.631 | diff:0)\n",
      "     step 273 (9.4 s) -- (orig: 55.059 | best:41.631 | new:41.631 | diff:0)\n",
      "     step 274 (9.4 s) -- (orig: 55.059 | best:41.631 | new:41.631 | diff:0)\n",
      "     step 275 (9.4 s) -- (orig: 55.059 | best:41.631 | new:41.631 | diff:0)\n",
      "     step 276 (9.5 s) -- (orig: 55.059 | best:41.631 | new:41.631 | diff:0)\n",
      "     step 277 (9.5 s) -- (orig: 55.059 | best:41.631 | new:41.631 | diff:0)\n",
      "     step 278 (9.6 s) -- (orig: 55.059 | best:41.631 | new:41.631 | diff:0)\n",
      "     step 279 (9.6 s) -- (orig: 55.059 | best:41.631 | new:41.631 | diff:0)\n",
      "     step 280 (9.6 s) -- (orig: 55.059 | best:41.631 | new:41.631 | diff:0)\n",
      "     step 281 (9.7 s) -- (orig: 55.059 | best:41.631 | new:41.631 | diff:0)\n",
      "     step 282 (9.7 s) -- (orig: 55.059 | best:41.631 | new:41.631 | diff:0)\n",
      "     step 283 (9.7 s) -- (orig: 55.059 | best:41.631 | new:41.631 | diff:0)\n",
      "     step 284 (9.8 s) -- (orig: 55.059 | best:41.631 | new:41.631 | diff:0)\n",
      "     step 285 (9.8 s) -- (orig: 55.059 | best:41.631 | new:41.631 | diff:0)\n",
      "     step 286 (9.8 s) -- (orig: 55.059 | best:41.631 | new:41.631 | diff:0)\n",
      "     step 287 (9.9 s) -- (orig: 55.059 | best:41.631 | new:41.631 | diff:0)\n",
      "     step 288 (9.9 s) -- (orig: 55.059 | best:41.631 | new:41.639 | diff:0.0078297)\n",
      "     step 289 (10.0 s) ++ (orig: 55.059 | best:41.631 | new:41.629 | diff:-0.0021780)\n",
      "     step 290 (10.0 s) -- (orig: 55.059 | best:41.629 | new:41.629 | diff:0)\n",
      "===  Time limit reached (10.017 > 10.000) (290 steps, orig: 55.059 | best: 41.629 | ratio: 0.75609) ===\n"
     ]
    }
   ],
   "source": [
    "reconciled_progset,outcome = reconcile(proj,parset_name,progset_name,reconcile_for_year,impact_pars=None,unitcost_sigma=unitcost_sigma, attribute_sigma=attribute_sigma, budget_sigma = budget_sigma,max_time=10)"
   ]
  },
  {
   "cell_type": "markdown",
   "metadata": {},
   "source": [
    "Diagnostic output is returned in the `outcome` variable, which shows for each parameter the discrepancy between the pre-reconciliation and post-reconciliation values compared to the parset, and a summary of the residual (sum of squared differences). Note that the reconciliation algorithm incorporates an additional penalty for programs being overfunded (with coverage $>1$) so the residual displayed in the `outcome` string may be different to the objective value printed out by `reconcile()`"
   ]
  },
  {
   "cell_type": "code",
   "execution_count": 64,
   "metadata": {
    "scrolled": true
   },
   "outputs": [
    {
     "name": "stdout",
     "output_type": "stream",
     "text": [
      "Population      Parameter           Parset     Initial                 Reconciled     \n",
      "0-4             v_rate              0.9700     0.3575 (   -0.6125)     0.4294 (   -0.5406)\n",
      "0-4             lteyes_rate         0.0000     0.0010 (   +0.0010)     0.0010 (   +0.0010)\n",
      "0-4             lteno_rate          0.0000     0.0000 (   +0.0000)     0.0000 (   +0.0000)\n",
      "0-4             ltesuc_rate         0.0000     0.0000 (   +0.0000)     0.0000 (   +0.0000)\n",
      "0-4             ltlyes_rate         0.0000     0.0010 (   +0.0010)     0.0010 (   +0.0010)\n",
      "0-4             ltlno_rate          0.0000     0.0000 (   +0.0000)     0.0000 (   +0.0000)\n",
      "0-4             ltlsuc_rate         0.0000     0.0000 (   +0.0000)     0.0000 (   +0.0000)\n",
      "0-4             spddiag_rate        0.5602     0.2983 (   -0.2619)     0.4267 (   -0.1335)\n",
      "0-4             spdyes_rate         0.8500     0.5851 (   -0.2649)     0.7896 (   -0.0604)\n",
      "0-4             spdno_rate          0.0365     0.0322 (   -0.0043)     0.0295 (   -0.0069)\n",
      "0-4             spdsuc_rate         0.4252     0.3251 (   -0.1001)     0.4687 (   +0.0435)\n",
      "0-4             spmdiag_rate        0.5602     0.2983 (   -0.2619)     0.4267 (   -0.1335)\n",
      "0-4             spmyes_rate         0.8460     0.4873 (   -0.3587)     0.5407 (   -0.3053)\n",
      "0-4             spmno_rate          0.2207     0.1851 (   -0.0355)     0.2176 (   -0.0031)\n",
      "0-4             spmsuc_rate         0.3643     0.2590 (   -0.1053)     0.3420 (   -0.0223)\n",
      "0-4             spxdiag_rate        0.5602     0.2983 (   -0.2619)     0.4267 (   -0.1335)\n",
      "0-4             spxyes_rate         0.6600     0.4312 (   -0.2288)     0.5493 (   -0.1107)\n",
      "0-4             spxno_rate          0.3675     0.3021 (   -0.0654)     0.3858 (   +0.0182)\n",
      "0-4             spxsuc_rate         0.2494     0.2182 (   -0.0312)     0.3372 (   +0.0878)\n",
      "0-4             snddiag_rate        0.5602     0.2983 (   -0.2619)     0.4267 (   -0.1335)\n",
      "0-4             sndyes_rate         0.8500     0.5851 (   -0.2649)     0.7896 (   -0.0604)\n",
      "0-4             sndno_rate          0.0365     0.0322 (   -0.0043)     0.0295 (   -0.0069)\n",
      "0-4             sndsuc_rate         0.4252     0.3251 (   -0.1001)     0.4687 (   +0.0435)\n",
      "0-4             snmdiag_rate        0.5602     0.2983 (   -0.2619)     0.4267 (   -0.1335)\n",
      "0-4             snmyes_rate         0.8460     0.4873 (   -0.3587)     0.5407 (   -0.3053)\n",
      "0-4             snmno_rate          0.2207     0.1851 (   -0.0355)     0.2176 (   -0.0031)\n",
      "0-4             snmsuc_rate         0.3643     0.2590 (   -0.1053)     0.3420 (   -0.0223)\n",
      "0-4             snxdiag_rate        0.5602     0.2983 (   -0.2619)     0.4267 (   -0.1335)\n",
      "0-4             snxyes_rate         0.6600     0.4312 (   -0.2288)     0.5493 (   -0.1107)\n",
      "0-4             snxno_rate          0.3675     0.3021 (   -0.0654)     0.3858 (   +0.0182)\n",
      "0-4             snxsuc_rate         0.2494     0.2182 (   -0.0312)     0.3372 (   +0.0878)\n",
      "5-14            lteyes_rate         0.0000     0.0010 (   +0.0010)     0.0010 (   +0.0010)\n",
      "5-14            lteno_rate          0.0000     0.0000 (   +0.0000)     0.0000 (   +0.0000)\n",
      "5-14            ltesuc_rate         0.0000     0.0000 (   +0.0000)     0.0000 (   +0.0000)\n",
      "5-14            ltlyes_rate         0.0000     0.0010 (   +0.0010)     0.0010 (   +0.0010)\n",
      "5-14            ltlno_rate          0.0000     0.0000 (   +0.0000)     0.0000 (   +0.0000)\n",
      "5-14            ltlsuc_rate         0.0000     0.0000 (   +0.0000)     0.0000 (   +0.0000)\n",
      "5-14            spddiag_rate        0.5602     0.2983 (   -0.2619)     0.4267 (   -0.1335)\n",
      "5-14            spdyes_rate         0.8500     0.5851 (   -0.2649)     0.7896 (   -0.0604)\n",
      "5-14            spdno_rate          0.0365     0.0322 (   -0.0043)     0.0295 (   -0.0069)\n",
      "5-14            spdsuc_rate         0.4252     0.3251 (   -0.1001)     0.4687 (   +0.0435)\n",
      "5-14            spmdiag_rate        0.5602     0.2983 (   -0.2619)     0.4267 (   -0.1335)\n",
      "5-14            spmyes_rate         0.8460     0.4873 (   -0.3587)     0.5407 (   -0.3053)\n",
      "5-14            spmno_rate          0.2207     0.1851 (   -0.0355)     0.2176 (   -0.0031)\n",
      "5-14            spmsuc_rate         0.3643     0.2590 (   -0.1053)     0.3420 (   -0.0223)\n",
      "5-14            spxdiag_rate        0.5602     0.2983 (   -0.2619)     0.4267 (   -0.1335)\n",
      "5-14            spxyes_rate         0.6600     0.4312 (   -0.2288)     0.5493 (   -0.1107)\n",
      "5-14            spxno_rate          0.3675     0.3021 (   -0.0654)     0.3858 (   +0.0182)\n",
      "5-14            spxsuc_rate         0.2494     0.2182 (   -0.0312)     0.3372 (   +0.0878)\n",
      "5-14            snddiag_rate        0.5602     0.2983 (   -0.2619)     0.4267 (   -0.1335)\n",
      "5-14            sndyes_rate         0.8500     0.5851 (   -0.2649)     0.7896 (   -0.0604)\n",
      "5-14            sndno_rate          0.0365     0.0322 (   -0.0043)     0.0295 (   -0.0069)\n",
      "5-14            sndsuc_rate         0.4252     0.3251 (   -0.1001)     0.4687 (   +0.0435)\n",
      "5-14            snmdiag_rate        0.5602     0.2983 (   -0.2619)     0.4267 (   -0.1335)\n",
      "5-14            snmyes_rate         0.8460     0.4873 (   -0.3587)     0.5407 (   -0.3053)\n",
      "5-14            snmno_rate          0.2207     0.1851 (   -0.0355)     0.2176 (   -0.0031)\n",
      "5-14            snmsuc_rate         0.3643     0.2590 (   -0.1053)     0.3420 (   -0.0223)\n",
      "5-14            snxdiag_rate        0.5602     0.2983 (   -0.2619)     0.4267 (   -0.1335)\n",
      "5-14            snxyes_rate         0.6600     0.4312 (   -0.2288)     0.5493 (   -0.1107)\n",
      "5-14            snxno_rate          0.3675     0.3021 (   -0.0654)     0.3858 (   +0.0182)\n",
      "5-14            snxsuc_rate         0.2494     0.2182 (   -0.0312)     0.3372 (   +0.0878)\n",
      "15-64           lteyes_rate         0.0000     0.0010 (   +0.0010)     0.0010 (   +0.0010)\n",
      "15-64           lteno_rate          0.0000     0.0000 (   +0.0000)     0.0000 (   +0.0000)\n",
      "15-64           ltesuc_rate         0.0000     0.0000 (   +0.0000)     0.0000 (   +0.0000)\n",
      "15-64           ltlyes_rate         0.0000     0.0010 (   +0.0010)     0.0010 (   +0.0010)\n",
      "15-64           ltlno_rate          0.0000     0.0000 (   +0.0000)     0.0000 (   +0.0000)\n",
      "15-64           ltlsuc_rate         0.0000     0.0000 (   +0.0000)     0.0000 (   +0.0000)\n",
      "15-64           spddiag_rate        0.5602     0.2983 (   -0.2619)     0.4267 (   -0.1335)\n",
      "15-64           spdyes_rate         0.8500     0.5851 (   -0.2649)     0.7896 (   -0.0604)\n",
      "15-64           spdno_rate          0.0365     0.0322 (   -0.0043)     0.0295 (   -0.0069)\n",
      "15-64           spdsuc_rate         0.4252     0.3251 (   -0.1001)     0.4687 (   +0.0435)\n",
      "15-64           spmdiag_rate        0.5602     0.2983 (   -0.2619)     0.4267 (   -0.1335)\n",
      "15-64           spmyes_rate         0.8460     0.4873 (   -0.3587)     0.5407 (   -0.3053)\n",
      "15-64           spmno_rate          0.2207     0.1851 (   -0.0355)     0.2176 (   -0.0031)\n",
      "15-64           spmsuc_rate         0.3643     0.2590 (   -0.1053)     0.3420 (   -0.0223)\n",
      "15-64           spxdiag_rate        0.5602     0.2983 (   -0.2619)     0.4267 (   -0.1335)\n",
      "15-64           spxyes_rate         0.6600     0.4312 (   -0.2288)     0.5493 (   -0.1107)\n",
      "15-64           spxno_rate          0.3675     0.3021 (   -0.0654)     0.3858 (   +0.0182)\n",
      "15-64           spxsuc_rate         0.2494     0.2182 (   -0.0312)     0.3372 (   +0.0878)\n",
      "15-64           snddiag_rate        0.5602     0.2983 (   -0.2619)     0.4267 (   -0.1335)\n",
      "15-64           sndyes_rate         0.8500     0.5851 (   -0.2649)     0.7896 (   -0.0604)\n",
      "15-64           sndno_rate          0.0365     0.0322 (   -0.0043)     0.0295 (   -0.0069)\n",
      "15-64           sndsuc_rate         0.4252     0.3251 (   -0.1001)     0.4687 (   +0.0435)\n",
      "15-64           snmdiag_rate        0.5602     0.2983 (   -0.2619)     0.4267 (   -0.1335)\n",
      "15-64           snmyes_rate         0.8460     0.4873 (   -0.3587)     0.5407 (   -0.3053)\n",
      "15-64           snmno_rate          0.2207     0.1851 (   -0.0355)     0.2176 (   -0.0031)\n",
      "15-64           snmsuc_rate         0.3643     0.2590 (   -0.1053)     0.3420 (   -0.0223)\n",
      "15-64           snxdiag_rate        0.5602     0.2983 (   -0.2619)     0.4267 (   -0.1335)\n",
      "15-64           snxyes_rate         0.6600     0.4312 (   -0.2288)     0.5493 (   -0.1107)\n",
      "15-64           snxno_rate          0.3675     0.3021 (   -0.0654)     0.3858 (   +0.0182)\n",
      "15-64           snxsuc_rate         0.2494     0.2182 (   -0.0312)     0.3372 (   +0.0878)\n",
      "65+             lteyes_rate         0.0000     0.0010 (   +0.0010)     0.0010 (   +0.0010)\n",
      "65+             lteno_rate          0.0000     0.0000 (   +0.0000)     0.0000 (   +0.0000)\n",
      "65+             ltesuc_rate         0.0000     0.0000 (   +0.0000)     0.0000 (   +0.0000)\n",
      "65+             ltlyes_rate         0.0000     0.0010 (   +0.0010)     0.0010 (   +0.0010)\n",
      "65+             ltlno_rate          0.0000     0.0000 (   +0.0000)     0.0000 (   +0.0000)\n",
      "65+             ltlsuc_rate         0.0000     0.0000 (   +0.0000)     0.0000 (   +0.0000)\n",
      "65+             spddiag_rate        0.5602     0.2983 (   -0.2619)     0.4267 (   -0.1335)\n",
      "65+             spdyes_rate         0.8500     0.5851 (   -0.2649)     0.7896 (   -0.0604)\n",
      "65+             spdno_rate          0.0365     0.0322 (   -0.0043)     0.0295 (   -0.0069)\n",
      "65+             spdsuc_rate         0.4252     0.3251 (   -0.1001)     0.4687 (   +0.0435)\n",
      "65+             spmdiag_rate        0.5602     0.2983 (   -0.2619)     0.4267 (   -0.1335)\n",
      "65+             spmyes_rate         0.8460     0.4873 (   -0.3587)     0.5407 (   -0.3053)\n",
      "65+             spmno_rate          0.2207     0.1851 (   -0.0355)     0.2176 (   -0.0031)\n",
      "65+             spmsuc_rate         0.3643     0.2590 (   -0.1053)     0.3420 (   -0.0223)\n",
      "65+             spxdiag_rate        0.5602     0.2983 (   -0.2619)     0.4267 (   -0.1335)\n",
      "65+             spxyes_rate         0.6600     0.4312 (   -0.2288)     0.5493 (   -0.1107)\n",
      "65+             spxno_rate          0.3675     0.3021 (   -0.0654)     0.3858 (   +0.0182)\n",
      "65+             spxsuc_rate         0.2494     0.2182 (   -0.0312)     0.3372 (   +0.0878)\n",
      "65+             snddiag_rate        0.5602     0.2983 (   -0.2619)     0.4267 (   -0.1335)\n",
      "65+             sndyes_rate         0.8500     0.5851 (   -0.2649)     0.7896 (   -0.0604)\n",
      "65+             sndno_rate          0.0365     0.0322 (   -0.0043)     0.0295 (   -0.0069)\n",
      "65+             sndsuc_rate         0.4252     0.3251 (   -0.1001)     0.4687 (   +0.0435)\n",
      "65+             snmdiag_rate        0.5602     0.2983 (   -0.2619)     0.4267 (   -0.1335)\n",
      "65+             snmyes_rate         0.8460     0.4873 (   -0.3587)     0.5407 (   -0.3053)\n",
      "65+             snmno_rate          0.2207     0.1851 (   -0.0355)     0.2176 (   -0.0031)\n",
      "65+             snmsuc_rate         0.3643     0.2590 (   -0.1053)     0.3420 (   -0.0223)\n",
      "65+             snxdiag_rate        0.5602     0.2983 (   -0.2619)     0.4267 (   -0.1335)\n",
      "65+             snxyes_rate         0.6600     0.4312 (   -0.2288)     0.5493 (   -0.1107)\n",
      "65+             snxno_rate          0.3675     0.3021 (   -0.0654)     0.3858 (   +0.0182)\n",
      "65+             snxsuc_rate         0.2494     0.2182 (   -0.0312)     0.3372 (   +0.0878)\n",
      "HIV 15+         lteyes_rate         0.0000     0.0614 (   +0.0614)     0.0413 (   +0.0413)\n",
      "HIV 15+         lteno_rate          0.0000     0.0000 (   +0.0000)     0.0000 (   +0.0000)\n",
      "HIV 15+         ltesuc_rate         0.0000     0.0000 (   +0.0000)     0.0000 (   +0.0000)\n",
      "HIV 15+         ltlyes_rate         0.0000     0.0614 (   +0.0614)     0.0413 (   +0.0413)\n",
      "HIV 15+         ltlno_rate          0.0000     0.0000 (   +0.0000)     0.0000 (   +0.0000)\n",
      "HIV 15+         ltlsuc_rate         0.0000     0.0000 (   +0.0000)     0.0000 (   +0.0000)\n",
      "HIV 15+         spddiag_rate        0.5602     0.3346 (   -0.2256)     0.4663 (   -0.0940)\n",
      "HIV 15+         spmdiag_rate        0.5602     0.3346 (   -0.2256)     0.4663 (   -0.0940)\n",
      "HIV 15+         spxdiag_rate        0.5602     0.3346 (   -0.2256)     0.4663 (   -0.0939)\n",
      "HIV 15+         snddiag_rate        0.5602     0.3346 (   -0.2256)     0.4663 (   -0.0940)\n",
      "HIV 15+         snmdiag_rate        0.5602     0.3346 (   -0.2256)     0.4663 (   -0.0940)\n",
      "HIV 15+         snxdiag_rate        0.5602     0.3346 (   -0.2256)     0.4663 (   -0.0939)\n",
      "Prisoners       spddiag_rate        0.5602     0.3346 (   -0.2256)     0.4663 (   -0.0940)\n",
      "Prisoners       spmdiag_rate        0.5602     0.3346 (   -0.2256)     0.4663 (   -0.0940)\n",
      "Prisoners       spxdiag_rate        0.5602     0.3346 (   -0.2256)     0.4663 (   -0.0939)\n",
      "Prisoners       snddiag_rate        0.5602     0.3346 (   -0.2256)     0.4663 (   -0.0940)\n",
      "Prisoners       snmdiag_rate        0.5602     0.3346 (   -0.2256)     0.4663 (   -0.0940)\n",
      "Prisoners       snxdiag_rate        0.5602     0.3346 (   -0.2256)     0.4663 (   -0.0939)\n",
      "Old residual (no coverage penalty) =     4.8699, New residual =     1.7860\n",
      "\n"
     ]
    }
   ],
   "source": [
    "print outcome"
   ]
  },
  {
   "cell_type": "markdown",
   "metadata": {},
   "source": [
    "After creating the `Project`, we need to load in the databook. Note that the databook is matched to the cascade, in that the quantities entered into the databook must correspond to the properties defined in the cascade. If you don't already have a databook, you can make one using the Project object:"
   ]
  },
  {
   "cell_type": "code",
   "execution_count": 61,
   "metadata": {
    "scrolled": true
   },
   "outputs": [
    {
     "name": "stderr",
     "output_type": "stream",
     "text": [
      "03-04-18 17:09:40    INFO     Elapsed time for running Belarus model: 2.677 s\n"
     ]
    }
   ],
   "source": [
    "reconciled_results = proj.runSim(parset_name=parset_name, progset=reconciled_progset, options=options, plot=False)\n",
    "reconciled_results.name = 'Progset after reconciliation'"
   ]
  },
  {
   "cell_type": "markdown",
   "metadata": {},
   "source": [
    "We can visually confirm that the reconciliation has improved the parameters:"
   ]
  },
  {
   "cell_type": "code",
   "execution_count": 65,
   "metadata": {},
   "outputs": [
    {
     "data": {
      "image/png": "[encoded data removed]",
      "text/plain": [
       "<Figure size 720x576 with 1 Axes>"
      ]
     },
     "metadata": {},
     "output_type": "display_data"
    }
   ],
   "source": [
    "d = PlotData([parset_results,default_results,reconciled_results],outputs=['spdyes_rate'], pops=['0-4'])\n",
    "plotSeries(d,axis='results');"
   ]
  },
  {
   "cell_type": "markdown",
   "metadata": {},
   "source": [
    "Notice that the discrepancy between the parset and program values in 2015 is considerably reduced. However, note also that discrepancies after the reconciliation year are not considered by the reconciliation algorithm."
   ]
  }
 ],
 "metadata": {
  "kernelspec": {
   "display_name": "Python [conda env:optima2]",
   "language": "python",
   "name": "conda-env-optima2-py"
  },
  "language_info": {
   "codemirror_mode": {
    "name": "ipython",
    "version": 2
   },
   "file_extension": ".py",
   "mimetype": "text/x-python",
   "name": "python",
   "nbconvert_exporter": "python",
   "pygments_lexer": "ipython2",
   "version": "2.7.14"
  }
 },
 "nbformat": 4,
 "nbformat_minor": 2
}
