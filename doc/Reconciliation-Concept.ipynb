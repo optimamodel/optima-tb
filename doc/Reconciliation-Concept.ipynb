{
 "cells": [
  {
   "cell_type": "markdown",
   "metadata": {},
   "source": [
    "## Basic Workflow\n",
    "\n",
    "This is a demonstration implementation of multi-year reconciliation. Reconciliation is performed by specifying a two-element `reconciliation range`. The parameters are changed from the first year in the reconciliation range, and the reconciliation objective function is calculated over all years in the range. If both entries in the reconciliation range are the same, it is functionally equivalent to old-style reconciliation with `reconcile_for_year` set to that same year. "
   ]
  },
  {
   "cell_type": "code",
   "execution_count": 1,
   "metadata": {},
   "outputs": [
    {
     "name": "stdout",
     "output_type": "stream",
     "text": [
      "\n",
      "Optima TB: a TB optimization and analysis tool\n",
      "Copyright (C) 2017 by the Optima Consortium\n",
      "\n"
     ]
    }
   ],
   "source": [
    "# IMPORTS\n",
    "%load_ext autoreload\n",
    "%autoreload 2\n",
    "%matplotlib inline\n",
    "import sys\n",
    "sys.path.append('..')\n",
    "from optima_tb.project import Project\n",
    "from optima_tb.utils import odict\n",
    "from optima_tb.plotting import plotResult\n",
    "from optima_tb.defaults import defaultOptimOptions\n",
    "import optima_tb.plotting as oplt\n",
    "import optima_tb.plotting2 as oplt2\n",
    "import matplotlib.pyplot as plt\n",
    "import numpy as np\n",
    "from IPython.display import display, HTML\n",
    "from optima_tb.plotting2 import plotSeries, PlotData\n"
   ]
  },
  {
   "cell_type": "code",
   "execution_count": 2,
   "metadata": {},
   "outputs": [],
   "source": [
    "import logging\n",
    "logger = logging.getLogger()\n",
    "logger.setLevel('WARN')"
   ]
  },
  {
   "cell_type": "code",
   "execution_count": 3,
   "metadata": {
    "scrolled": true
   },
   "outputs": [],
   "source": [
    "cascade = '../../tb-ucl-analyses/belarus/Cascade Spreadsheets/cascade-belarus.xlsx'\n",
    "databook = '../../tb-ucl-analyses/belarus/Databook Spreadsheets/databook-belarus.xlsx'\n",
    "proj= Project(name = 'Belarus', cascade_path = cascade, validation_level = 'avert', plotting_level = 'dev')\n",
    "proj.loadSpreadsheet(databook_path=databook)\n",
    "parset = proj.makeParset(name='default')\n",
    "progset = proj.makeProgset(name='default-progset')\n",
    "parset_results = proj.runSim(parset_name='default', plot=False)\n",
    "options = defaultOptimOptions(settings=proj.settings, progset=proj.progsets[0])\n",
    "default_results = proj.runSim(parset_name='default', progset_name='default-progset', options=options)\n",
    "parset_results.name = 'Parset'\n",
    "default_results.name = 'Unreconciled'"
   ]
  },
  {
   "cell_type": "code",
   "execution_count": 4,
   "metadata": {},
   "outputs": [
    {
     "ename": "SyntaxError",
     "evalue": "cannot assign to None (<ipython-input-4-edab17edeffc>, line 9)",
     "output_type": "error",
     "traceback": [
      "\u001b[1;36m  File \u001b[1;32m\"<ipython-input-4-edab17edeffc>\"\u001b[1;36m, line \u001b[1;32m9\u001b[0m\n\u001b[1;33m    sigma_dict=None, unitcost_sigma=0.05, attribute_sigma=0.20\u001b[0m\n\u001b[1;31mSyntaxError\u001b[0m\u001b[1;31m:\u001b[0m cannot assign to None\n"
     ]
    }
   ],
   "source": [
    "from optima_tb.reconciliation4 import reconcile\n",
    "parset_name='default'\n",
    "progset_name = 'default-progset'\n",
    "unitcost_sigma=0.05\n",
    "attribute_sigma=0.2\n",
    "budget_sigma = 0.0\n",
    "impact_pars=None\n",
    "\n",
    "sigma_dict=None, unitcost_sigma=0.05, attribute_sigma=0.20"
   ]
  },
  {
   "cell_type": "markdown",
   "metadata": {},
   "source": [
    "Now, reconciliation mainly depends on the `reconciliation_range`. Some options would be\n",
    "- Setting both to be the same, which is the same behaviour as before\n",
    "- Setting the lower bound to be prior to the program start year\n",
    "- Setting the upper bound to be after the program start year\n",
    "- Setting the range to span the program start year\n",
    "\n",
    "We will now evaluate each of these options in turn"
   ]
  },
  {
   "cell_type": "code",
   "execution_count": null,
   "metadata": {},
   "outputs": [],
   "source": [
    "def test_reconciliation(reconciliation_range):\n",
    "    reconciled_progset,outcome = reconcile(proj,parset_name,progset_name,reconciliation_range,impact_pars=None,unitcost_sigma=unitcost_sigma, attribute_sigma=attribute_sigma, budget_sigma = budget_sigma,max_time=20,verbose=0)\n",
    "    reconciled_results = proj.runSim(parset_name=parset_name, progset=reconciled_progset, options=options, plot=False)\n",
    "    reconciled_results.name = 'Reconciled'\n",
    "    d = PlotData([parset_results,default_results,reconciled_results],outputs=['pxtreat'], pops=['15-64'])\n",
    "    d.set_colors('b',results=['Parset'])\n",
    "    d.set_colors('r',results='Unreconciled')\n",
    "    d.set_colors('g',results='Reconciled')\n",
    "    figs = plotSeries(d,axis='results');\n",
    "    ax = figs[0].axes[0]\n",
    "    ax.axvspan(reconciliation_range[0],reconciliation_range[1], alpha=0.1, facecolor='red',edgecolor='none',linewidth=0.0)\n",
    "    ax.axvline(x=options['progs_start'],color='k',linestyle='--', alpha=0.5,linewidth=0.2); # Highlight a particular time on the plot\n",
    "    plt.show()"
   ]
  },
  {
   "cell_type": "markdown",
   "metadata": {},
   "source": [
    "### Running standard reconciliation multiple times\n",
    "\n",
    "The budget after the program start year (black line) is unchanged, so the choice of reconciliation could have a significant effect on predictions going forward"
   ]
  },
  {
   "cell_type": "code",
   "execution_count": null,
   "metadata": {
    "scrolled": false
   },
   "outputs": [],
   "source": [
    "test_reconciliation([2015,2015])"
   ]
  },
  {
   "cell_type": "code",
   "execution_count": null,
   "metadata": {},
   "outputs": [],
   "source": [
    "test_reconciliation([2015,2015])"
   ]
  },
  {
   "cell_type": "code",
   "execution_count": null,
   "metadata": {},
   "outputs": [],
   "source": [
    "test_reconciliation([2015,2015])"
   ]
  },
  {
   "cell_type": "markdown",
   "metadata": {},
   "source": [
    "### Reconciling prior to start year\n",
    "\n",
    "The idea is that we start reconciling a few years in advance, comparing the known parameter data to the known program data"
   ]
  },
  {
   "cell_type": "code",
   "execution_count": null,
   "metadata": {},
   "outputs": [],
   "source": [
    "test_reconciliation([2012,2015])"
   ]
  },
  {
   "cell_type": "code",
   "execution_count": null,
   "metadata": {},
   "outputs": [],
   "source": [
    "test_reconciliation([2012,2015])"
   ]
  },
  {
   "cell_type": "code",
   "execution_count": null,
   "metadata": {},
   "outputs": [],
   "source": [
    "test_reconciliation([2012,2015])"
   ]
  },
  {
   "cell_type": "markdown",
   "metadata": {},
   "source": [
    "### Reconciling after start year\n",
    "\n",
    "The idea is that the parset projections reflect business as usual, including the effect of any programs that were actually active in the last parset year, so if the program continues being funded in the same way as in the reconciliation year/program start year, then it should approximately match the parset"
   ]
  },
  {
   "cell_type": "code",
   "execution_count": null,
   "metadata": {},
   "outputs": [],
   "source": [
    "test_reconciliation([2015,2018])"
   ]
  },
  {
   "cell_type": "code",
   "execution_count": null,
   "metadata": {},
   "outputs": [],
   "source": [
    "test_reconciliation([2015,2018])"
   ]
  },
  {
   "cell_type": "code",
   "execution_count": null,
   "metadata": {},
   "outputs": [],
   "source": [
    "test_reconciliation([2015,2018])"
   ]
  },
  {
   "cell_type": "markdown",
   "metadata": {},
   "source": [
    "### Reconciling spanning start year"
   ]
  },
  {
   "cell_type": "code",
   "execution_count": null,
   "metadata": {},
   "outputs": [],
   "source": [
    "test_reconciliation([2012,2018])"
   ]
  },
  {
   "cell_type": "code",
   "execution_count": null,
   "metadata": {},
   "outputs": [],
   "source": [
    "test_reconciliation([2012,2018])"
   ]
  },
  {
   "cell_type": "code",
   "execution_count": null,
   "metadata": {
    "scrolled": false
   },
   "outputs": [],
   "source": [
    "test_reconciliation([2012,2018])"
   ]
  },
  {
   "cell_type": "markdown",
   "metadata": {},
   "source": [
    "### Reconciliation over a longer time period"
   ]
  },
  {
   "cell_type": "code",
   "execution_count": null,
   "metadata": {},
   "outputs": [],
   "source": [
    "test_reconciliation([2015,2023])"
   ]
  },
  {
   "cell_type": "code",
   "execution_count": null,
   "metadata": {
    "scrolled": false
   },
   "outputs": [],
   "source": [
    "test_reconciliation([2015,2023])"
   ]
  },
  {
   "cell_type": "code",
   "execution_count": null,
   "metadata": {
    "scrolled": false
   },
   "outputs": [],
   "source": [
    "test_reconciliation([2015,2023])"
   ]
  }
 ],
 "metadata": {
  "kernelspec": {
   "display_name": "Python [conda env:optima2]",
   "language": "python",
   "name": "conda-env-optima2-py"
  },
  "language_info": {
   "codemirror_mode": {
    "name": "ipython",
    "version": 2
   },
   "file_extension": ".py",
   "mimetype": "text/x-python",
   "name": "python",
   "nbconvert_exporter": "python",
   "pygments_lexer": "ipython2",
   "version": "2.7.14"
  }
 },
 "nbformat": 4,
 "nbformat_minor": 2
}
