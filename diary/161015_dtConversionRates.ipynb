{
 "cells": [
  {
   "cell_type": "markdown",
   "metadata": {},
   "source": [
    "#Testing hypothesis for rate"
   ]
  },
  {
   "cell_type": "code",
   "execution_count": 1,
   "metadata": {
    "collapsed": true
   },
   "outputs": [],
   "source": [
    "import numpy as np\n",
    "import scipy\n",
    "import pylab"
   ]
  },
  {
   "cell_type": "markdown",
   "metadata": {},
   "source": [
    "Observation: if rates are described per year, and $\\Delta t$ is set as less than a year, then rates cannot be automatically divided by $\\Delta t$ and result in same value."
   ]
  },
  {
   "cell_type": "code",
   "execution_count": 23,
   "metadata": {
    "collapsed": false
   },
   "outputs": [],
   "source": [
    "comp =  lambda r,n: (1 + r)**n"
   ]
  },
  {
   "cell_type": "code",
   "execution_count": 29,
   "metadata": {
    "collapsed": false
   },
   "outputs": [
    {
     "name": "stdout",
     "output_type": "stream",
     "text": [
      "2.0 2.44140625\n"
     ]
    }
   ],
   "source": [
    "\n",
    "a = comp(1.,1)\n",
    "q = comp(0.25,4.)\n",
    "print a,q\n"
   ]
  },
  {
   "cell_type": "code",
   "execution_count": 61,
   "metadata": {
    "collapsed": false
   },
   "outputs": [
    {
     "name": "stdout",
     "output_type": "stream",
     "text": [
      "0.189207115003\n",
      "2.0\n"
     ]
    }
   ],
   "source": [
    "inv_comp = lambda x,n: (1+x)**(1./n) - 1\n",
    "\n",
    "qhat = inv_comp(1.,4.)\n",
    "print qhat\n",
    "q_approx = comp(qhat,4.)\n",
    "print q_approx"
   ]
  },
  {
   "cell_type": "markdown",
   "metadata": {},
   "source": [
    "## Examining how severely the effective rate is modified with decreasing $\\Delta t$:"
   ]
  },
  {
   "cell_type": "code",
   "execution_count": 35,
   "metadata": {
    "collapsed": false
   },
   "outputs": [],
   "source": [
    "xs = np.linspace(0.2,1.,num=5)\n",
    "ys_var = map(lambda x: comp(x,1./x), xs)"
   ]
  },
  {
   "cell_type": "code",
   "execution_count": 36,
   "metadata": {
    "collapsed": false
   },
   "outputs": [
    {
     "name": "stdout",
     "output_type": "stream",
     "text": [
      "[2.4883199999999994, 2.3191032749750491, 2.1887692117461723, 2.0849259335188846, 2.0]\n"
     ]
    }
   ],
   "source": [
    "print ys_var"
   ]
  },
  {
   "cell_type": "code",
   "execution_count": 38,
   "metadata": {
    "collapsed": false
   },
   "outputs": [
    {
     "name": "stdout",
     "output_type": "stream",
     "text": [
      "[1.7623416832000007, 1.7121988968574884, 1.6694170599285585, 1.6324020979136984, 1.6000000000000001]\n"
     ]
    }
   ],
   "source": [
    "ys2_var = map(lambda x: comp(x*.6,1./x), xs)\n",
    "print ys2_var"
   ]
  },
  {
   "cell_type": "code",
   "execution_count": 70,
   "metadata": {
    "collapsed": false
   },
   "outputs": [
    {
     "name": "stdout",
     "output_type": "stream",
     "text": [
      "Populating the interactive namespace from numpy and matplotlib\n"
     ]
    },
    {
     "data": {
      "text/plain": [
       "(0, 20)"
      ]
     },
     "execution_count": 70,
     "metadata": {},
     "output_type": "execute_result"
    },
    {
     "data": {
      "image/png": "[encoded data removed]",
      "text/plain": [
       "<matplotlib.figure.Figure at 0x112a78c50>"
      ]
     },
     "metadata": {},
     "output_type": "display_data"
    }
   ],
   "source": [
    "%pylab inline\n",
    "xs = np.linspace(0.1,1.,num=50) # dt\n",
    "pylab.figure(figsize=(10,5))\n",
    "for a in np.arange(0.01,1.01,0.1):\n",
    "    ys2_var = map(lambda x: comp(a,1./x), xs)\n",
    "    pylab.plot(xs,ys2_var)\n",
    "pylab.xlabel(\"$\\Delta t$\")\n",
    "pylab.ylabel(\"effective rate\")\n",
    "pylab.ylim(0,20)"
   ]
  },
  {
   "cell_type": "markdown",
   "metadata": {},
   "source": [
    "So, pretty severely as $\\Delta t \\rightarrow 0$."
   ]
  },
  {
   "cell_type": "markdown",
   "metadata": {},
   "source": [
    "## Now dealing with more complex situation where compartment has incoming and outgoing rates:"
   ]
  },
  {
   "cell_type": "code",
   "execution_count": 77,
   "metadata": {
    "collapsed": false
   },
   "outputs": [],
   "source": [
    "def dSIR_dt(y,beta,gamma):\n",
    "    S,I,R = y\n",
    "    transit1 = beta*S\n",
    "    print transit1\n",
    "    transit2 = gamma*I\n",
    "    S -= transit1\n",
    "    I = I + transit1 - transit2 \n",
    "    R += transit2\n",
    "    return (S,I,R)\n",
    "\n",
    "p0 = (1e6,1e2,0) # Initial populations for SIR compartments\n",
    "beta = 0.2 \n",
    "gamma = 0.01"
   ]
  },
  {
   "cell_type": "code",
   "execution_count": 78,
   "metadata": {
    "collapsed": false
   },
   "outputs": [
    {
     "name": "stdout",
     "output_type": "stream",
     "text": [
      "200000.0\n",
      "50000.0\n",
      "47500.0\n",
      "45125.0\n",
      "42868.75\n",
      "Compounding annually:  (800000.0, 200099.0, 1.0)\n",
      "1000100.0\n",
      "Compounding quarterly:  (814506.25, 182708.25960100003, 2885.4903990000003)\n",
      "1000100.0\n"
     ]
    }
   ],
   "source": [
    "# Example 1: Rate is 'compounded' once annually\n",
    "y_annually = dSIR_dt(p0,beta,gamma)\n",
    "\n",
    "# Example 2: We compound quarterly, assuming same rate /4\n",
    "y_quarter = dSIR_dt(p0,beta/4.,gamma)\n",
    "yqs = [y_quarter]\n",
    "for i in range(3):\n",
    "    y_quarter = dSIR_dt(y_quarter,beta/4.,gamma)\n",
    "    yqs.append(y_quarter)\n",
    "\n",
    "print \"Compounding annually: \", y_annually\n",
    "print np.sum(y_annually)\n",
    "print \"Compounding quarterly: \", yqs[-1]\n",
    "print np.sum(yqs[-1])"
   ]
  },
  {
   "cell_type": "code",
   "execution_count": null,
   "metadata": {
    "collapsed": true
   },
   "outputs": [],
   "source": []
  }
 ],
 "metadata": {
  "kernelspec": {
   "display_name": "Python 2",
   "language": "python",
   "name": "python2"
  },
  "language_info": {
   "codemirror_mode": {
    "name": "ipython",
    "version": 2
   },
   "file_extension": ".py",
   "mimetype": "text/x-python",
   "name": "python",
   "nbconvert_exporter": "python",
   "pygments_lexer": "ipython2",
   "version": "2.7.6"
  }
 },
 "nbformat": 4,
 "nbformat_minor": 0
}
